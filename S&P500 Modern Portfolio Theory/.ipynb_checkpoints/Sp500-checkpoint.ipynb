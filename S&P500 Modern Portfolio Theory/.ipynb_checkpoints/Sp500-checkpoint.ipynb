{
 "cells": [
  {
   "cell_type": "markdown",
   "id": "7d21d8bb",
   "metadata": {
    "id": "7d21d8bb"
   },
   "source": [
    "# \n",
    "## <p style=\"background-color:white;font-family:newtimeroman;color:coral;font-size:100%;text-align:center;border-radius:20px 60px;\">MARKOWITZ's MODERN PORTFOLIO THEORY FOR S and P 500 TECHNOLOGY STOCKS INVESTMENT OPTIMIZATION</p>\n",
    "![](https://3.bp.blogspot.com/-L3bXJ18DfgY/WLWMIFWnd5I/AAAAAAAABRQ/nWxTcueDJt8H8fiZesjUCctJ8UJE6nKmgCLcB/s640/Untitled.png)\n",
    "\n",
    "By Adedayo Adeboye Abiodun\n"
   ]
  },
  {
   "cell_type": "markdown",
   "id": "1c679bc4",
   "metadata": {
    "id": "1c679bc4"
   },
   "source": [
    "In the fast-paced world of technology stocks within the S&P 500, the key to successful investment lies in informed decision-making. This project embarks on a journey through the realms of Modern Portfolio Theory (MPT) to construct a well-diversified portfolio. By leveraging historical data scraped from Yahoo Finance and the S&P 500 constituents from Wikipedia, this endeavor aims to unlock valuable insights into risk, return, and the optimal allocation of assets. Join us as we navigate the dynamic landscape of technology investments, guided by the principles of MPT.\n",
    "\n",
    "In this Python project, we embark on a journey to harness the power of MPT to construct an optimal portfolio consisting of S&P 500 technology stocks. Our goal is twofold: to identify the most promising technology stocks within the S&P 500 and to allocate investments intelligently to minimize risk while maximizing returns. Through the fusion of data analysis, statistical modeling, and advanced Python programming, we will craft a portfolio that not only adapts to market dynamics but also aligns with our unique investment objectives.\n",
    "\n",
    "This project is designed for both novice and seasoned investors, offering a practical hands-on experience in applying quantitative methods to the world of finance. By the end of our journey, you will have the tools and insights to construct your own tech-savvy portfolio, making informed decisions in a dynamic market.\n",
    "\n",
    "Join us on this exciting exploration of Modern Portfolio Theory and its application to the dynamic world of S&P 500 technology stocks. Let's embark on this data-driven adventure to optimize your investment strategy and potentially secure a prosperous financial future.\n",
    "\n",
    "Here are the list of Python Liberaries:\n",
    "    \n",
    "     1. datetime\n",
    "     2. pandas\n",
    "     3. yfinance\n",
    "     4. numpy\n",
    "     5. matplotlib.pyplo\n",
    "     6. seaborn\n",
    "     7. plotly_express\n",
    "     8. scipy.stats.mstats"
   ]
  },
  {
   "cell_type": "code",
   "execution_count": 1,
   "id": "397e173e",
   "metadata": {
    "id": "397e173e",
    "tags": []
   },
   "outputs": [
    {
     "ename": "ModuleNotFoundError",
     "evalue": "No module named 'yfinance'",
     "output_type": "error",
     "traceback": [
      "\u001b[1;31m---------------------------------------------------------------------------\u001b[0m",
      "\u001b[1;31mModuleNotFoundError\u001b[0m                       Traceback (most recent call last)",
      "Cell \u001b[1;32mIn[1], line 4\u001b[0m\n\u001b[0;32m      2\u001b[0m \u001b[38;5;28;01mfrom\u001b[39;00m \u001b[38;5;21;01mdatetime\u001b[39;00m \u001b[38;5;28;01mimport\u001b[39;00m date\n\u001b[0;32m      3\u001b[0m \u001b[38;5;28;01mimport\u001b[39;00m \u001b[38;5;21;01mpandas\u001b[39;00m \u001b[38;5;28;01mas\u001b[39;00m \u001b[38;5;21;01mpd\u001b[39;00m\n\u001b[1;32m----> 4\u001b[0m \u001b[38;5;28;01mimport\u001b[39;00m \u001b[38;5;21;01myfinance\u001b[39;00m \u001b[38;5;28;01mas\u001b[39;00m \u001b[38;5;21;01myf\u001b[39;00m\n\u001b[0;32m      5\u001b[0m \u001b[38;5;28;01mimport\u001b[39;00m \u001b[38;5;21;01mnumpy\u001b[39;00m \u001b[38;5;28;01mas\u001b[39;00m \u001b[38;5;21;01mnp\u001b[39;00m\n\u001b[0;32m      6\u001b[0m \u001b[38;5;28;01mimport\u001b[39;00m \u001b[38;5;21;01mmatplotlib\u001b[39;00m\u001b[38;5;21;01m.\u001b[39;00m\u001b[38;5;21;01mpyplot\u001b[39;00m \u001b[38;5;28;01mas\u001b[39;00m \u001b[38;5;21;01mplt\u001b[39;00m\n",
      "\u001b[1;31mModuleNotFoundError\u001b[0m: No module named 'yfinance'"
     ]
    }
   ],
   "source": [
    "import datetime as dt\n",
    "from datetime import date\n",
    "import pandas as pd\n",
    "import yfinance as yf\n",
    "import numpy as np\n",
    "import matplotlib.pyplot as plt\n",
    "import seaborn as sns\n",
    "import plotly.express as px\n",
    "from scipy.stats.mstats import gmean\n",
    "import warnings\n",
    "warnings.filterwarnings(\"ignore\")\n",
    "from scipy import optimize"
   ]
  },
  {
   "cell_type": "code",
   "execution_count": null,
   "id": "4ace302c",
   "metadata": {
    "colab": {
     "base_uri": "https://localhost:8080/"
    },
    "id": "4ace302c",
    "outputId": "8846b102-6e60-4a2d-91f6-6c1e49b91a86",
    "scrolled": true
   },
   "outputs": [],
   "source": [
    " pip uninstall -y yfinance"
   ]
  },
  {
   "cell_type": "code",
   "execution_count": null,
   "id": "89a0a568",
   "metadata": {
    "colab": {
     "base_uri": "https://localhost:8080/",
     "height": 409
    },
    "id": "89a0a568",
    "outputId": "54981bb6-efa6-41d4-ac79-2661dd50f826",
    "tags": []
   },
   "outputs": [],
   "source": [
    "pip install yfinance==0.1.83"
   ]
  },
  {
   "cell_type": "markdown",
   "id": "565c273b",
   "metadata": {
    "id": "565c273b"
   },
   "source": [
    "### Web Scraping\n",
    "Gathering data about the technology companies listed on the S&P 500 index from Wikipedia"
   ]
  },
  {
   "cell_type": "code",
   "execution_count": null,
   "id": "ece9103e",
   "metadata": {
    "id": "ece9103e"
   },
   "outputs": [],
   "source": [
    "sp500_url = \"https://en.wikipedia.org/wiki/List_of_S%26P_500_companies\""
   ]
  },
  {
   "cell_type": "code",
   "execution_count": null,
   "id": "36b8e019",
   "metadata": {
    "id": "36b8e019"
   },
   "outputs": [],
   "source": [
    "sp500_table = pd.read_html(sp500_url)"
   ]
  },
  {
   "cell_type": "code",
   "execution_count": null,
   "id": "038fd414",
   "metadata": {
    "colab": {
     "base_uri": "https://localhost:8080/"
    },
    "id": "038fd414",
    "outputId": "c58d2db1-1ae5-4a6e-fa0a-7973274f447e"
   },
   "outputs": [],
   "source": [
    "# Check the tables lengths\n",
    "\n",
    "len(sp500_table)"
   ]
  },
  {
   "cell_type": "code",
   "execution_count": null,
   "id": "d7ceb63e",
   "metadata": {
    "id": "d7ceb63e"
   },
   "outputs": [],
   "source": [
    "# Select the relevant data table index [0\n",
    "\n",
    "sp500_table = sp500_table[0]"
   ]
  },
  {
   "cell_type": "code",
   "execution_count": null,
   "id": "4fee6fb1",
   "metadata": {
    "colab": {
     "base_uri": "https://localhost:8080/",
     "height": 424
    },
    "id": "4fee6fb1",
    "outputId": "ad1b3a1b-c3e2-48bf-e506-6fcd62cd282e"
   },
   "outputs": [],
   "source": [
    "sp500_table"
   ]
  },
  {
   "cell_type": "code",
   "execution_count": null,
   "id": "78c1ac48",
   "metadata": {
    "id": "78c1ac48"
   },
   "outputs": [],
   "source": [
    "# Select only information technology dataframe\n",
    "\n",
    "sp500_table_tech = sp500_table[sp500_table['GICS Sector'] == 'Information Technology']"
   ]
  },
  {
   "cell_type": "code",
   "execution_count": null,
   "id": "6a5d68e7",
   "metadata": {
    "colab": {
     "base_uri": "https://localhost:8080/",
     "height": 175
    },
    "id": "6a5d68e7",
    "outputId": "f80dac65-7132-4741-d92f-bae96b41c2a9",
    "scrolled": true
   },
   "outputs": [],
   "source": [
    "sp500_table_tech.head(4)"
   ]
  },
  {
   "cell_type": "code",
   "execution_count": null,
   "id": "f31d8dac",
   "metadata": {
    "id": "f31d8dac"
   },
   "outputs": [],
   "source": [
    "# Generate tickers for IT companies\n",
    "\n",
    "tickers_IT = sp500_table_tech['Symbol'].tolist()"
   ]
  },
  {
   "cell_type": "code",
   "execution_count": null,
   "id": "c03cf1b0",
   "metadata": {
    "colab": {
     "base_uri": "https://localhost:8080/"
    },
    "id": "c03cf1b0",
    "outputId": "52c24f6e-ad59-4257-c798-2f690b8fb96f",
    "scrolled": true
   },
   "outputs": [],
   "source": [
    "# Scrap Historical data from yahoo finanace\n",
    "today = date.today()\n",
    "\n",
    "sp500_table_tech_priceIT = yf.download(tickers_IT ,start = '2023-01-10', end = today)['Adj Close']"
   ]
  },
  {
   "cell_type": "code",
   "execution_count": null,
   "id": "87a01dd9",
   "metadata": {
    "colab": {
     "base_uri": "https://localhost:8080/",
     "height": 649
    },
    "id": "87a01dd9",
    "outputId": "cc16c920-fb8e-4ba6-b086-1f95b3d0e3e4"
   },
   "outputs": [],
   "source": [
    "sp500_table_tech_priceIT"
   ]
  },
  {
   "cell_type": "markdown",
   "id": "6acf7d5d",
   "metadata": {
    "id": "6acf7d5d"
   },
   "source": [
    "### DESCRITIVE ANALYSIS"
   ]
  },
  {
   "cell_type": "code",
   "execution_count": null,
   "id": "1b3a8621",
   "metadata": {
    "colab": {
     "base_uri": "https://localhost:8080/",
     "height": 300
    },
    "id": "1b3a8621",
    "outputId": "46449062-8e7d-402c-a4bf-16a570f04328"
   },
   "outputs": [],
   "source": [
    "sp500_table_tech.describe()"
   ]
  },
  {
   "cell_type": "code",
   "execution_count": null,
   "id": "cfdb6710",
   "metadata": {
    "colab": {
     "base_uri": "https://localhost:8080/"
    },
    "id": "cfdb6710",
    "outputId": "ef9ca95a-cf23-4d93-963d-8696408984df"
   },
   "outputs": [],
   "source": [
    "sp500_table_tech.info()"
   ]
  },
  {
   "cell_type": "code",
   "execution_count": null,
   "id": "6565371b",
   "metadata": {
    "colab": {
     "base_uri": "https://localhost:8080/"
    },
    "id": "6565371b",
    "outputId": "a5d60fa8-e03b-4b5c-fe9c-960a1ce0d5f1"
   },
   "outputs": [],
   "source": [
    "sp500_table_tech.notnull().sum()"
   ]
  },
  {
   "cell_type": "markdown",
   "id": "e9f83513",
   "metadata": {
    "id": "e9f83513"
   },
   "source": [
    "### Expolatory Data Analysid"
   ]
  },
  {
   "cell_type": "code",
   "execution_count": null,
   "id": "2f32abd7",
   "metadata": {
    "id": "2f32abd7"
   },
   "outputs": [],
   "source": [
    "# Generate tickers for IT companies\n",
    "\n",
    "tickers_ID = sp500_table_tech['GICS Sub-Industry'].unique()"
   ]
  },
  {
   "cell_type": "code",
   "execution_count": null,
   "id": "TzktbBKwkldQ",
   "metadata": {
    "id": "TzktbBKwkldQ"
   },
   "outputs": [],
   "source": [
    "tickers_ID = tickers_ID.tolist()"
   ]
  },
  {
   "cell_type": "code",
   "execution_count": null,
   "id": "5e2dbe10",
   "metadata": {
    "colab": {
     "base_uri": "https://localhost:8080/"
    },
    "id": "5e2dbe10",
    "outputId": "0ec0bd3e-af65-4ca4-e6d6-3c3e6a3338ad",
    "scrolled": false
   },
   "outputs": [],
   "source": [
    "tickers_ID"
   ]
  },
  {
   "cell_type": "code",
   "execution_count": null,
   "id": "00a5ec2a",
   "metadata": {
    "colab": {
     "base_uri": "https://localhost:8080/"
    },
    "id": "00a5ec2a",
    "outputId": "9b145bb1-5758-437e-b69f-5d18daab2463"
   },
   "outputs": [],
   "source": [
    "len(tickers_ID)"
   ]
  },
  {
   "cell_type": "code",
   "execution_count": null,
   "id": "1eb62660",
   "metadata": {
    "colab": {
     "base_uri": "https://localhost:8080/",
     "height": 882
    },
    "id": "1eb62660",
    "outputId": "0d74fc9f-c6e7-4ac8-f2f4-0f7d994b13ef",
    "scrolled": true
   },
   "outputs": [],
   "source": [
    "# Chech the symbols correclation\n",
    "\n",
    "plt.figure(figsize = (10,10))\n",
    "sns.heatmap(sp500_table_tech_priceIT.corr(),annot=True, cmap=\"coolwarm\")"
   ]
  },
  {
   "cell_type": "code",
   "execution_count": null,
   "id": "884efb1b",
   "metadata": {
    "colab": {
     "base_uri": "https://localhost:8080/",
     "height": 1000
    },
    "id": "884efb1b",
    "outputId": "1ec2c048-1b13-4cad-e5c2-58afc04732d9"
   },
   "outputs": [],
   "source": [
    "# Check the data distribution\n",
    "\n",
    "sp500_table_tech_priceIT.hist(bins = 50 ,figsize = (20,15))\n",
    "plt.show"
   ]
  },
  {
   "cell_type": "code",
   "execution_count": null,
   "id": "ee350386",
   "metadata": {
    "id": "ee350386"
   },
   "outputs": [],
   "source": [
    "# Apply the stack function to transpose the dataframe\n",
    "\n",
    "sp500_table_tech_priceITranspos = pd.DataFrame(sp500_table_tech_priceIT.stack())"
   ]
  },
  {
   "cell_type": "code",
   "execution_count": null,
   "id": "6e299028",
   "metadata": {
    "colab": {
     "base_uri": "https://localhost:8080/",
     "height": 424
    },
    "id": "6e299028",
    "outputId": "8664eb68-e3fa-4049-fd4a-1df223deb110"
   },
   "outputs": [],
   "source": [
    "# Reset the index using reset_index function\n",
    "\n",
    "sp500_table_tech_priceITranspos = sp500_table_tech_priceITranspos.reset_index()\n",
    "sp500_table_tech_priceITranspos"
   ]
  },
  {
   "cell_type": "code",
   "execution_count": null,
   "id": "aa530a12",
   "metadata": {
    "id": "aa530a12"
   },
   "outputs": [],
   "source": [
    "# Rename the columns\n",
    "\n",
    "sp500_table_tech_priceITranspos.rename({'level_1': 'Symbol', 0: 'Close'},\n",
    "          axis = \"columns\", inplace = True)"
   ]
  },
  {
   "cell_type": "code",
   "execution_count": null,
   "id": "c9598e1c",
   "metadata": {
    "colab": {
     "base_uri": "https://localhost:8080/",
     "height": 424
    },
    "id": "c9598e1c",
    "outputId": "925c1b11-488d-4293-bc60-b23bd4b77480"
   },
   "outputs": [],
   "source": [
    "sp500_table_tech_priceITranspos"
   ]
  },
  {
   "cell_type": "markdown",
   "id": "cbfc8561",
   "metadata": {
    "id": "cbfc8561"
   },
   "source": [
    "#### Merge sp500_table_tech_priceITranspos with sp500_table_tech on Symbol"
   ]
  },
  {
   "cell_type": "code",
   "execution_count": null,
   "id": "12778955",
   "metadata": {
    "colab": {
     "base_uri": "https://localhost:8080/",
     "height": 206
    },
    "id": "12778955",
    "outputId": "10680204-ba2b-4afe-fbde-99220e177145",
    "scrolled": true
   },
   "outputs": [],
   "source": [
    "# merge\n",
    "\n",
    "sp500_table_tech_priceITranspos  = sp500_table_tech_priceITranspos.merge(sp500_table_tech[['Symbol','GICS Sub-Industry']], on = 'Symbol')\n",
    "# sp500_table_tech_priceITranspos['Date'] = pd.to_datetime(sp500_table_tech_priceITranspos['Date'])\n",
    "sp500_table_tech_priceITranspos.head()"
   ]
  },
  {
   "cell_type": "code",
   "execution_count": null,
   "id": "7315d693",
   "metadata": {
    "colab": {
     "base_uri": "https://localhost:8080/",
     "height": 702
    },
    "id": "7315d693",
    "outputId": "8abe1960-6e22-4c39-f7ec-96b8218c8f05"
   },
   "outputs": [],
   "source": [
    "plt.figure(figsize=(15, 6))\n",
    "ax = sns.countplot(y='GICS Sub-Industry', data=sp500_table_tech_priceITranspos)\n",
    "plt.xticks(rotation=45)"
   ]
  },
  {
   "cell_type": "code",
   "execution_count": null,
   "id": "8430b9c2",
   "metadata": {
    "colab": {
     "base_uri": "https://localhost:8080/",
     "height": 649
    },
    "id": "8430b9c2",
    "outputId": "fc473543-18a4-4c2e-da8f-af352e39c4f1",
    "scrolled": true
   },
   "outputs": [],
   "source": [
    "# convert sp500_table_tech_priceITranspos to pivot_table\n",
    "\n",
    "IndustryIT_pivot = pd.pivot_table(sp500_table_tech_priceITranspos, values = 'Close', index = ['Date'],columns = ['GICS Sub-Industry']).reset_index()\n",
    "IndustryIT_pivot"
   ]
  },
  {
   "cell_type": "code",
   "execution_count": null,
   "id": "8d329755",
   "metadata": {
    "colab": {
     "base_uri": "https://localhost:8080/",
     "height": 649
    },
    "id": "8d329755",
    "outputId": "2de0f673-6fd0-482a-a687-b4ab171a7e77"
   },
   "outputs": [],
   "source": [
    "IndustryIT_pivot.columns.name = None\n",
    "IndustryIT_pivot"
   ]
  },
  {
   "cell_type": "code",
   "execution_count": null,
   "id": "fe2a0675",
   "metadata": {
    "colab": {
     "base_uri": "https://localhost:8080/",
     "height": 649
    },
    "id": "fe2a0675",
    "outputId": "1a130e37-126f-47b1-9153-491f9c4dfda3"
   },
   "outputs": [],
   "source": [
    "IndustryIT_pivot = IndustryIT_pivot.reset_index(drop = True)\n",
    "IndustryIT_pivot"
   ]
  },
  {
   "cell_type": "code",
   "execution_count": null,
   "id": "600dc674",
   "metadata": {
    "colab": {
     "base_uri": "https://localhost:8080/",
     "height": 681
    },
    "id": "600dc674",
    "outputId": "ef1a8122-f80e-4f17-cdd0-e55962af52c4"
   },
   "outputs": [],
   "source": [
    "IndustryIT_pivot = IndustryIT_pivot.set_index('Date')\n",
    "IndustryIT_pivot"
   ]
  },
  {
   "cell_type": "markdown",
   "id": "a7d8325f",
   "metadata": {
    "id": "a7d8325f"
   },
   "source": [
    "### Selection base Correlation"
   ]
  },
  {
   "cell_type": "code",
   "execution_count": null,
   "id": "07c80717",
   "metadata": {
    "colab": {
     "base_uri": "https://localhost:8080/",
     "height": 1000
    },
    "id": "07c80717",
    "outputId": "66c7803a-bce8-4ec2-aa68-5277015a3eea"
   },
   "outputs": [],
   "source": [
    "plt.figure(figsize = (12,10))\n",
    "sns.heatmap(IndustryIT_pivot.corr(),annot=True, cmap=\"coolwarm\")"
   ]
  },
  {
   "cell_type": "markdown",
   "id": "6ca2bdc2",
   "metadata": {
    "id": "6ca2bdc2"
   },
   "source": [
    "We've generated a correlation matrix for our Industries, with higher correlations indicating stocks moving in tandem. In simple terms, highly correlated stocks tend to rise or fall together.\n",
    "\n",
    "For a well-rounded portfolio, investors target negatively correlated stocks, minimizing risk and promoting peace of mind. In a two-stock portfolio with negative correlation, when one falters, the other often excels. Conversely, risk enthusiasts may opt for positively correlated stocks, aiming for greater returns at the expense of heightened risk."
   ]
  },
  {
   "cell_type": "code",
   "execution_count": null,
   "id": "f6a53fb4",
   "metadata": {
    "colab": {
     "base_uri": "https://localhost:8080/",
     "height": 1000
    },
    "id": "f6a53fb4",
    "outputId": "21eccbd6-11f9-4e1e-9d6c-d2cc9030b0fd",
    "scrolled": true
   },
   "outputs": [],
   "source": [
    "# Chech stastistical Data Distribution\n",
    "\n",
    "IndustryIT_pivot.hist(bins = 50 ,figsize = (20,15))\n",
    "plt.show"
   ]
  },
  {
   "cell_type": "markdown",
   "id": "80e805fd",
   "metadata": {
    "id": "80e805fd"
   },
   "source": [
    "Histograms provide valuable insights into the distribution of statistical data, enhancing our ability to analyze data distribution patterns. This is particularly advantageous when applied to stock market prediction.\n",
    "\n",
    "#  "
   ]
  },
  {
   "cell_type": "markdown",
   "id": "2159c361",
   "metadata": {
    "id": "2159c361"
   },
   "source": [
    "### Selection base on pct_change\n",
    "\n",
    "Here we can get better understanding between the previous columns values of our dataset and the curent values. This will help us to analysis how a numeric series or colums change over time"
   ]
  },
  {
   "cell_type": "code",
   "execution_count": null,
   "id": "880281ea",
   "metadata": {
    "colab": {
     "base_uri": "https://localhost:8080/",
     "height": 542
    },
    "id": "880281ea",
    "outputId": "08c7f4c9-ff0b-4286-c07b-1f6ae3209d3c"
   },
   "outputs": [],
   "source": [
    "# px.line(IndustryIT_pivot * 100 / IndustryIT_pivot.iloc[0])\n",
    "\n",
    "ret_port = IndustryIT_pivot.pct_change()\n",
    "px.line(ret_port)"
   ]
  },
  {
   "cell_type": "markdown",
   "id": "2e86f42b",
   "metadata": {
    "id": "2e86f42b"
   },
   "source": [
    "### Calculate Volatility and Shape Ratio of The Asset"
   ]
  },
  {
   "cell_type": "code",
   "execution_count": null,
   "id": "fdc3babe",
   "metadata": {
    "colab": {
     "base_uri": "https://localhost:8080/"
    },
    "id": "fdc3babe",
    "outputId": "34c3615d-e319-43f0-80a3-7cdb4246bec0"
   },
   "outputs": [],
   "source": [
    "np.random.seed(1)\n",
    "# security Weight\n",
    "weights = np.random.random((12,1))\n",
    "# Do normalization\n",
    "weights /= np.sum(weights)\n",
    "print(f'The normalized Weights :  {weights}')\n",
    "\n",
    "\n",
    "# Generate log of Return\n",
    "log_return = np.log(IndustryIT_pivot / IndustryIT_pivot.shift(1))\n",
    "log_return\n",
    "\n",
    "# Expected return (weighted sum of mean returns).\n",
    "# Mult by 252 as we always do annual calculation and year has 252 business days\n",
    "exp_return = log_return.mean().dot(weights)*252\n",
    "print(f'\\nExpected return of the portfolio is : {exp_return[0]}')\n",
    "\n",
    "\n",
    "# Exp Volatility (Risk)\n",
    "exp_vol = np.sqrt(weights.T.dot(252*log_return.cov().dot(weights)))\n",
    "print(f'\\nVolatility of the portfolio: {exp_vol[0][0]}')\n",
    "\n",
    "\n",
    "# Sharpe ratio\n",
    "sr = exp_return / exp_vol\n",
    "print(f'\\nSharpe ratio of the portfolio: {sr[0][0]}')"
   ]
  },
  {
   "cell_type": "markdown",
   "id": "0598cd2f",
   "metadata": {
    "id": "0598cd2f"
   },
   "source": [
    "Diversification Analysis: Normalized weights help assess portfolio diversification. A well-diversified portfolio should have relatively equal weights among its holdings, reducing exposure to individual stock risk.\n",
    "\n",
    "In summary, normalized weights provide valuable insights into the composition and characteristics of a stock portfolio, aiding investors in making informed decisions regarding diversification, risk management, and performance evaluation.\n",
    "\n",
    "##"
   ]
  },
  {
   "cell_type": "markdown",
   "id": "2f22bf83",
   "metadata": {
    "id": "2f22bf83"
   },
   "source": [
    "### Selection based Monte Carlo Simulation\n",
    "\n",
    "In a Monte Carlo Simulation, we randomly allocate weights to securities, evaluate returns and risks, and pinpoint the optimal weight combination for maximum return at a defined risk level. Alternatively, SciPy can solve this optimization problem."
   ]
  },
  {
   "cell_type": "code",
   "execution_count": null,
   "id": "c0e24403",
   "metadata": {
    "id": "c0e24403"
   },
   "outputs": [],
   "source": [
    "# number of simulation\n",
    "n = 50_000\n",
    "# n = 10\n",
    "\n",
    "port_weights = np.zeros(shape=(n,len(IndustryIT_pivot.columns)))\n",
    "port_volatility = np.zeros(n)\n",
    "port_sr = np.zeros(n)\n",
    "port_return = np.zeros(n)\n",
    "\n",
    "num_securities = len(IndustryIT_pivot.columns)\n",
    "# num_securities\n",
    "for i in range(n):\n",
    "    # Weight each security\n",
    "    weights = np.random.random(12)\n",
    "    # normalize it, so that some is one\n",
    "    weights /= np.sum(weights)\n",
    "    port_weights[i,:] = weights\n",
    "    #     print(f'Normalized Weights : {weights.flatten()}')\n",
    "\n",
    "    # Expected return (weighted sum of mean returns). Mult by 252 as we always do annual calculation and year has 252 business days\n",
    "    exp_ret = log_return.mean().dot(weights)*252\n",
    "    port_return[i] = exp_ret\n",
    "#     print(f'\\nExpected return is : {exp_ret[0]}')\n",
    "\n",
    "    # Exp Volatility (Risk)\n",
    "    exp_vol = np.sqrt(weights.T.dot(252*log_return.cov().dot(weights)))\n",
    "    port_volatility[i] = exp_vol\n",
    "#     print(f'\\nVolatility : {exp_vol[0][0]}')\n",
    "\n",
    "    # Sharpe ratio\n",
    "    sr = exp_ret / exp_vol\n",
    "    port_sr[i] = sr\n",
    "#     print(f'\\nSharpe ratio : {sr[0][0]}')"
   ]
  },
  {
   "cell_type": "code",
   "execution_count": null,
   "id": "d9429ccc",
   "metadata": {
    "id": "d9429ccc"
   },
   "outputs": [],
   "source": [
    "# Index of max Sharpe Ratio\n",
    "max_sr = port_sr.max()\n",
    "ind = port_sr.argmax()\n",
    "# Return and Volatility at Max SR\n",
    "max_sr_ret = port_return[ind]\n",
    "max_sr_vol = port_volatility[ind]"
   ]
  },
  {
   "cell_type": "code",
   "execution_count": null,
   "id": "965b1738",
   "metadata": {
    "colab": {
     "base_uri": "https://localhost:8080/",
     "height": 607
    },
    "id": "965b1738",
    "outputId": "798ec2f1-c8cb-48cb-8d6a-42f79656063d",
    "scrolled": true
   },
   "outputs": [],
   "source": [
    "plt.figure(figsize=(20,15))\n",
    "plt.scatter(port_volatility,port_return,c=port_sr, cmap='plasma')\n",
    "plt.colorbar(label='Sharpe Ratio')\n",
    "plt.xlabel('Volatility', fontsize=15)\n",
    "plt.ylabel('Return', fontsize=15)\n",
    "plt.title('Efficient Frontier (Bullet Plot)', fontsize=15)\n",
    "plt.scatter(max_sr_vol, max_sr_ret, c='blue', s=150, edgecolors='red', marker='o', label='Max \\\n",
    "Sharpe ratio Portfolio')\n",
    "plt.legend();"
   ]
  },
  {
   "cell_type": "markdown",
   "id": "05983105",
   "metadata": {
    "id": "05983105"
   },
   "source": [
    "A volatility scatter plot for stock assets can provide several insights:\n",
    "\n",
    "1. Risk-Return Relationship: It can help you visualize the relationship between risk (volatility) and return (typically represented by historical or expected returns). Assets located in the upper-right quadrant of the plot tend to offer higher returns but also come with higher volatility, while those in the lower-left quadrant have lower returns but lower volatility.\n",
    "\n",
    "2. Risk Diversification: By plotting multiple assets, you can assess how different stocks behave in terms of volatility. Diversification strategies often involve selecting assets that have low or negatively correlated volatility to reduce overall portfolio risk.\n",
    "\n",
    "3. Outliers: The plot can highlight outliers, which are stocks with exceptionally high or low volatility relative to others. These outliers may warrant further investigation, as they can present unique investment opportunities or risks.\n",
    "\n",
    "4. Sector Analysis: Grouping assets by sector and plotting them can reveal sector-specific patterns in volatility. Some sectors, such as technology or biotech, may naturally exhibit higher volatility compared to more stable sectors like utilities or consumer staples.\n",
    "\n",
    "5. Historical Trends: Over time, the scatter plot can show how the volatility of specific assets or the overall market has evolved. This can be valuable for assessing changing market conditions.\n",
    "\n",
    "6. Portfolio Optimization: If you're building a diversified portfolio, the plot can help you select assets that align with your risk tolerance and return objectives. You can aim to balance assets with different risk-return profiles.\n",
    "\n",
    "It's important to note that while a volatility scatter plot can provide insights, it should be used in conjunction with other financial analysis tools and considerations to make informed investment decisions. Additionally, historical volatility may not always predict future volatility, so risk assessment should be dynamic and adaptable."
   ]
  },
  {
   "cell_type": "code",
   "execution_count": null,
   "id": "97d5911b",
   "metadata": {
    "colab": {
     "base_uri": "https://localhost:8080/"
    },
    "id": "97d5911b",
    "outputId": "a5515dfb-ba0c-4d6d-9cbf-5e3fd7710ea6"
   },
   "outputs": [],
   "source": [
    "for weight, tickers_IDs in zip(port_weights[ind],tickers_ID):\n",
    "    print(f'{round(weight * 100, 2)} % of {tickers_IDs} should be bought.')\n",
    "\n",
    "# best portfolio return\n",
    "print(f'\\nMarkowitz optimal portfolio return is : {round(max_sr_ret * 100, 2)}% with volatility \\\n",
    "{max_sr_vol}')"
   ]
  },
  {
   "cell_type": "markdown",
   "id": "6b5c615b",
   "metadata": {
    "id": "6b5c615b"
   },
   "source": [
    "#### optimization\n",
    "\n",
    "### SciPy to get the max of Sharpe Ration"
   ]
  },
  {
   "cell_type": "code",
   "execution_count": null,
   "id": "9f161c03",
   "metadata": {
    "id": "9f161c03"
   },
   "outputs": [],
   "source": [
    "log_mean = log_return.mean() * 252\n",
    "cov = log_return.cov() * 252"
   ]
  },
  {
   "cell_type": "code",
   "execution_count": null,
   "id": "d52f3f1d",
   "metadata": {
    "id": "d52f3f1d"
   },
   "outputs": [],
   "source": [
    "# Some helper functions\n",
    "def get_ret_vol_sr(weights):\n",
    "    weights = np.array(weights)\n",
    "    ret = log_mean.dot(weights)\n",
    "    vol = np.sqrt(weights.T.dot(cov.dot(weights)))\n",
    "    sr = ret / vol\n",
    "    return np.array([ret, vol, sr])\n",
    "\n",
    "# Negate Sharpe ratio as we need to max it but Scipy minimize the given function\n",
    "def neg_sr(weights):\n",
    "    return get_ret_vol_sr(weights)[-1] * -1\n",
    "\n",
    "# check sum of weights\n",
    "def check_sum(weights):\n",
    "    return np.sum(weights) - 1\n",
    "\n",
    "# Constraints for the optimization problem\n",
    "cons = {'type':'eq','fun':check_sum}\n",
    "# bounds on weights\n",
    "bounds = ((0,1),(0,1),(0,1),(0,1),(0,1),(0,1),(0,1),(0,1),(0,1),(0,1),(0,1),(0,1))\n",
    "# initial guess for optimization to start with\n",
    "init_guess = [.25 for _ in range(12)]\n",
    "\n",
    "\n",
    "# Call minimizer\n",
    "opt_results = optimize.minimize(neg_sr, init_guess, constraints=cons, bounds=bounds, method='SLSQP')"
   ]
  },
  {
   "cell_type": "code",
   "execution_count": null,
   "id": "b15abcb2",
   "metadata": {
    "colab": {
     "base_uri": "https://localhost:8080/"
    },
    "id": "b15abcb2",
    "outputId": "25b31788-74ca-4103-fde8-7426e437e0d9"
   },
   "outputs": [],
   "source": [
    "optimal_weights = opt_results.x\n",
    "# optimal_weights\n",
    "for tickers_IDs, i in zip(tickers_ID,optimal_weights):\n",
    "    print(f'Stock {tickers_IDs} has weight {np.round(i*100,2)} %')"
   ]
  },
  {
   "cell_type": "code",
   "execution_count": null,
   "id": "3f4cb9b4",
   "metadata": {
    "colab": {
     "base_uri": "https://localhost:8080/"
    },
    "id": "3f4cb9b4",
    "outputId": "ae489184-9085-469d-bb7f-620e32dc4073",
    "scrolled": true
   },
   "outputs": [],
   "source": [
    "mc_weights = port_weights[ind]\n",
    "for st, i in zip(tickers_ID,mc_weights):\n",
    "    print(f'Stock {st} has weight {np.round(i*100,2)} %')"
   ]
  },
  {
   "cell_type": "markdown",
   "id": "d0f67088",
   "metadata": {
    "id": "d0f67088"
   },
   "source": [
    "Diversification: The weight of an asset in a portfolio indicates how much exposure an investor has to that particular asset. A well-diversified portfolio often has assets with different weights to spread risk effectively.\n",
    "\n",
    "Risk Assessment: A high weight in a single asset can indicate concentration risk. If that asset performs poorly, it can significantly impact the overall performance of the portfolio.\n",
    "\n",
    "In summary, the weight of an asset in stock analysis is a crucial metric for understanding portfolio composition, risk, and performance. It can help investors make informed decisions about asset allocation and assess the impact of individual holdings on their overall investment strategy."
   ]
  },
  {
   "cell_type": "code",
   "execution_count": null,
   "id": "b5ec7433",
   "metadata": {
    "colab": {
     "base_uri": "https://localhost:8080/"
    },
    "id": "b5ec7433",
    "outputId": "0c4db2cb-d083-454f-ff55-223869a798e4"
   },
   "outputs": [],
   "source": [
    "# Comparing two results we see that we get very close results\n",
    "(optimal_weights - mc_weights)"
   ]
  },
  {
   "cell_type": "code",
   "execution_count": null,
   "id": "a7b03c4f",
   "metadata": {
    "colab": {
     "base_uri": "https://localhost:8080/"
    },
    "id": "a7b03c4f",
    "outputId": "0d6dc6e6-29c2-4279-b8d8-73cfe08299bf"
   },
   "outputs": [],
   "source": [
    "get_ret_vol_sr(optimal_weights), get_ret_vol_sr(mc_weights)\n",
    "\n",
    "print('For a given portfolio we have: (Using SciPy optimizer)\\n \\n')\n",
    "for i, j in enumerate('Return Volatility SharpeRatio'.split()):\n",
    "    print(f'{j} is : {get_ret_vol_sr(optimal_weights)[i]}\\n')\n",
    "\n",
    "print('For a given portfolio we have: (Using Monte Carlo)\\n \\n')\n",
    "for i, j in enumerate('Return Volatility SharpeRatio'.split()):\n",
    "    print(f'{j} is : {get_ret_vol_sr(mc_weights)[i]}\\n')"
   ]
  },
  {
   "cell_type": "markdown",
   "id": "7914e712",
   "metadata": {
    "id": "7914e712"
   },
   "source": [
    "So MC and Optimizer gives very close results. MC is good, but if we have many assets, since MC computationally heavy, SciPy is going to be a saviour!!!"
   ]
  },
  {
   "cell_type": "markdown",
   "id": "1b78ad3c",
   "metadata": {
    "id": "1b78ad3c"
   },
   "source": [
    "1. *SciPy Optimizer-Generated Weights*:\n",
    "   - *Purpose*: SciPy optimizers are typically used in mathematical optimization problems to find the best set of parameters that minimize or maximize a specific objective function.\n",
    "   - *Usage*: These weights are often used to optimize models in various domains, such as machine learning (e.g., neural network weights), engineering (e.g., optimizing control systems), and finance (e.g., portfolio optimization). They represent the optimal solution to a specific problem.\n",
    "\n",
    "2. *Monte Carlo Simulation-Generated Weights*:\n",
    "   - *Purpose*: Monte Carlo simulations are used to model uncertainty and variability in a system by repeatedly sampling random inputs and assessing the outcomes. In finance, it's often used for risk analysis, option pricing, and more.\n",
    "   - *Usage*: Weights generated from Monte Carlo simulations are typically used to estimate probabilistic outcomes and risk measures. For example, in finance, these weights might represent the distribution of potential returns for a portfolio under various market scenarios. They help investors assess the risk associated with their investments.\n",
    "\n",
    "In summary, SciPy optimizer-generated weights are primarily used to find optimal solutions to deterministic optimization problems, while Monte Carlo simulation-generated weights are used to model and analyze probabilistic outcomes and uncertainties in a system. The choice between these methods depends on the specific problem you're trying to solve and whether you're dealing with deterministic or stochastic (random) elements in your model."
   ]
  },
  {
   "cell_type": "markdown",
   "id": "62184b7b",
   "metadata": {
    "id": "62184b7b"
   },
   "source": [
    "### Frontier curve\n",
    "Best return for given volatility or vice versa."
   ]
  },
  {
   "cell_type": "code",
   "execution_count": null,
   "id": "afd9038f",
   "metadata": {
    "id": "afd9038f"
   },
   "outputs": [],
   "source": [
    "frontier_y = np.linspace(port_return.min(), port_return.max(), 100)\n",
    "frontier_vol = []\n",
    "\n",
    "def minimize_vol(weights):\n",
    "    return get_ret_vol_sr(weights)[1]\n",
    "\n",
    "for possible_ret in frontier_y:\n",
    "    cons = ({'type':'eq','fun':check_sum},\n",
    "            {'type':'eq','fun':lambda w:get_ret_vol_sr(w)[0] - possible_ret})\n",
    "    result = optimize.minimize(minimize_vol, init_guess, method='SLSQP', constraints=cons, bounds=bounds)\n",
    "    frontier_vol.append(result['fun'])"
   ]
  },
  {
   "cell_type": "code",
   "execution_count": null,
   "id": "ebca3bcd",
   "metadata": {
    "colab": {
     "base_uri": "https://localhost:8080/",
     "height": 1000
    },
    "id": "ebca3bcd",
    "outputId": "6b11255e-58d4-4d5f-f656-4d29c39e9270"
   },
   "outputs": [],
   "source": [
    "plt.figure(figsize=(20,15))\n",
    "plt.scatter(port_volatility,port_return,c=port_sr, cmap='plasma')\n",
    "plt.colorbar(label='Sharpe Ratio')\n",
    "plt.xlabel('Volatility', fontsize=15)\n",
    "plt.ylabel('Return', fontsize=15)\n",
    "plt.title('Efficient Frontier', fontsize=15)\n",
    "plt.scatter(max_sr_vol, max_sr_ret, c='blue', s=150, edgecolors='red', marker='o')\n",
    "\n",
    "plt.plot(frontier_vol, frontier_y, c='magenta', ls='--', lw=3, label='Efficient Frontier')\n",
    "plt.legend();"
   ]
  },
  {
   "cell_type": "markdown",
   "id": "95f4f89c",
   "metadata": {
    "id": "95f4f89c"
   },
   "source": [
    "#### Frontier curve\n",
    "Selecting the portfolio with the highest Sharpe ratio is a widely accepted approach, though personal preferences can also play a role in decision-making. The efficient frontier offers the maximum profit achievable for a given level of risk. Therefore, any portfolio situated below this efficient frontier is generally considered suboptimal, assuming we are aiming for returns above the risk-free rate.\n"
   ]
  },
  {
   "cell_type": "markdown",
   "id": "ab20bb60",
   "metadata": {
    "id": "ab20bb60"
   },
   "source": [
    "##\n",
    "#### Portfolio selection by Sector Companies"
   ]
  },
  {
   "cell_type": "code",
   "execution_count": null,
   "id": "1f546437",
   "metadata": {
    "id": "1f546437"
   },
   "outputs": [],
   "source": [
    "sp500_table_tech_priceITranspos['return'] = np.log(sp500_table_tech_priceITranspos.Close / sp500_table_tech_priceITranspos.Close.shift(1)) + 1\n",
    "sp500_table_tech_priceITranspos['good'] = sp500_table_tech_priceITranspos['Symbol'] == sp500_table_tech_priceITranspos['Symbol'].shift(1)\n",
    "sp500_table_tech_priceITranspos = sp500_table_tech_priceITranspos.drop(sp500_table_tech_priceITranspos[sp500_table_tech_priceITranspos['good'] == False].index)\n",
    "sp500_table_tech_priceITranspos.dropna(inplace = True)"
   ]
  },
  {
   "cell_type": "code",
   "execution_count": null,
   "id": "389abb4f",
   "metadata": {
    "colab": {
     "base_uri": "https://localhost:8080/",
     "height": 696
    },
    "id": "389abb4f",
    "outputId": "c507328e-6776-4a08-cdf9-68aac53f4672"
   },
   "outputs": [],
   "source": [
    "risk_free = 0.034\n",
    "Industry_df = pd.DataFrame({'return' : (sp500_table_tech_priceITranspos.groupby('GICS Sub-Industry')['return'].mean() - 1) * 252, 'stdev' : sp500_table_tech_priceITranspos.groupby('GICS Sub-Industry')['return'].std()})\n",
    "Industry_df['sharpe'] = (Industry_df['return'] - risk_free) / Industry_df['stdev']\n",
    "plt.figure(figsize = (12,8))\n",
    "ax = sns.barplot(x= Industry_df['sharpe'], y = Industry_df.index)"
   ]
  },
  {
   "cell_type": "markdown",
   "id": "7df3a6a4",
   "metadata": {
    "id": "7df3a6a4"
   },
   "source": [
    "#### The Sharpe ratio\n",
    "\n",
    "The Sharpe ratio is a common metric for evaluating portfolio performance, with higher values indicating stronger portfolios. Investors generally find a Sharpe ratio exceeding 1 acceptable. In practice, we focus on companies with Sharpe ratios above 1 when making investment choices.\n",
    "\n",
    "#"
   ]
  },
  {
   "cell_type": "code",
   "execution_count": null,
   "id": "80ce2e8d",
   "metadata": {
    "colab": {
     "base_uri": "https://localhost:8080/"
    },
    "id": "80ce2e8d",
    "outputId": "47686224-3499-49f0-e146-3405dd47443b"
   },
   "outputs": [],
   "source": [
    "port_list = Industry_df[Industry_df['sharpe'] >= 1].index\n",
    "port_list"
   ]
  },
  {
   "cell_type": "code",
   "execution_count": null,
   "id": "c59ff867",
   "metadata": {
    "colab": {
     "base_uri": "https://localhost:8080/",
     "height": 424
    },
    "id": "c59ff867",
    "outputId": "3eea98b7-e9e3-4757-f138-cc190e46031a"
   },
   "outputs": [],
   "source": [
    "sp500_table_tech_priceITranspos"
   ]
  },
  {
   "cell_type": "markdown",
   "id": "39480f35",
   "metadata": {
    "id": "39480f35"
   },
   "source": [
    "Once we've compiled the list of sectors, we'll select the top-performing stock from each sector. In practice, you would typically choose multiple stocks, but for the sake of simplicity in this example, I'll pick just one for illustration."
   ]
  },
  {
   "cell_type": "code",
   "execution_count": null,
   "id": "4464dd5f",
   "metadata": {
    "colab": {
     "base_uri": "https://localhost:8080/"
    },
    "id": "4464dd5f",
    "outputId": "a6c31f80-316c-45fb-a018-7fd2c163c2d6"
   },
   "outputs": [],
   "source": [
    "port_stock = []\n",
    "return_stock = []\n",
    "def get_stock(industry):\n",
    "    list_stocks = sp500_table_tech_priceITranspos[sp500_table_tech_priceITranspos['GICS Sub-Industry'] == industry]['Symbol'].unique()\n",
    "    performance = sp500_table_tech_priceITranspos.groupby('Symbol')['return'].apply(lambda x : (gmean(x) - 1) * 252).sort_values(ascending = False)\n",
    "\n",
    "    for i in range(len(performance)):\n",
    "        if performance.index[i] in list_stocks:\n",
    "            port_stock.append(performance.index[i])\n",
    "            return_stock.append(performance[i])\n",
    "            break\n",
    "\n",
    "for industry in port_list:\n",
    "    get_stock(industry)\n",
    "\n",
    "return_stock"
   ]
  },
  {
   "cell_type": "code",
   "execution_count": null,
   "id": "34591bf5",
   "metadata": {
    "colab": {
     "base_uri": "https://localhost:8080/",
     "height": 455
    },
    "id": "34591bf5",
    "outputId": "0caa6e37-56aa-4bb9-d8f1-0c36327fd83d"
   },
   "outputs": [],
   "source": [
    "port_df = sp500_table_tech_priceITranspos[sp500_table_tech_priceITranspos['Symbol'].isin(port_stock)].pivot('Date','Symbol','return')\n",
    "port_df"
   ]
  },
  {
   "cell_type": "markdown",
   "id": "c69e5423",
   "metadata": {
    "id": "c69e5423"
   },
   "source": [
    "### Porfolio risk and return calculation\n",
    "\n"
   ]
  },
  {
   "cell_type": "code",
   "execution_count": null,
   "id": "2b3fb195",
   "metadata": {
    "id": "2b3fb195"
   },
   "outputs": [],
   "source": [
    "return_pred = []\n",
    "weight_pred = []\n",
    "std_pred = []\n",
    "for i in range(1000):\n",
    "    random_matrix = np.array(np.random.dirichlet(np.ones(len(port_stock)),size=1)[0])\n",
    "    port_std = np.sqrt(np.dot(random_matrix.T, np.dot(port_df.cov(),random_matrix))) * np.sqrt(252)\n",
    "    port_return = np.dot(return_stock, random_matrix)\n",
    "    return_pred.append(port_return)\n",
    "    std_pred.append(port_std)\n",
    "    weight_pred.append(random_matrix)"
   ]
  },
  {
   "cell_type": "code",
   "execution_count": null,
   "id": "f39d34f7",
   "metadata": {
    "colab": {
     "base_uri": "https://localhost:8080/",
     "height": 206
    },
    "id": "f39d34f7",
    "outputId": "80f3c435-9f06-47f0-85b7-d2e9d96e88ea"
   },
   "outputs": [],
   "source": [
    "pred_output = pd.DataFrame({'weight' : weight_pred , 'return' : return_pred, 'stdev' :std_pred })\n",
    "pred_output['sharpe'] = (pred_output['return'] - risk_free) / pred_output['stdev']\n",
    "pred_output.head()"
   ]
  },
  {
   "cell_type": "code",
   "execution_count": null,
   "id": "68da34cc",
   "metadata": {
    "id": "68da34cc"
   },
   "outputs": [],
   "source": [
    "max_pos = pred_output.iloc[pred_output.sharpe.idxmax(),:]\n",
    "safe_pos = pred_output.iloc[pred_output.stdev.idxmin(),:]"
   ]
  },
  {
   "cell_type": "markdown",
   "id": "de5cf4c0",
   "metadata": {
    "id": "de5cf4c0"
   },
   "source": [
    "After running 2000 simulations, we finally plot the results, as well as the options for the portfolio, either the best performing or the safest one for risk adverse."
   ]
  },
  {
   "cell_type": "code",
   "execution_count": null,
   "id": "ce67bf37",
   "metadata": {
    "colab": {
     "base_uri": "https://localhost:8080/",
     "height": 868
    },
    "id": "ce67bf37",
    "outputId": "411f6742-9f64-49eb-d012-1932a3499f92"
   },
   "outputs": [],
   "source": [
    "plt.subplots(figsize=(15,10))\n",
    "\n",
    "plt.scatter(pred_output.stdev,pred_output['return'],c=pred_output.sharpe,cmap='OrRd')\n",
    "plt.colorbar()\n",
    "plt.xlabel('Volatility')\n",
    "plt.ylabel('Return')\n",
    "\n",
    "plt.scatter(max_pos.stdev,max_pos['return'],marker='^',color='r',s=500)\n",
    "plt.scatter(safe_pos.stdev,safe_pos['return'],marker='<',color='g',s=500)\n",
    "#ax.plot()"
   ]
  },
  {
   "cell_type": "code",
   "execution_count": null,
   "id": "c83979c9",
   "metadata": {
    "colab": {
     "base_uri": "https://localhost:8080/"
    },
    "id": "c83979c9",
    "outputId": "e7410fe9-ece6-4f85-8a97-fbda06528c8c"
   },
   "outputs": [],
   "source": [
    "print(\"The highest sharpe porfolio is {} sharpe, at {} volitality\".format(max_pos.sharpe.round(3),max_pos.stdev.round(3)))\n",
    "\n",
    "for i in range(len(port_stock)):\n",
    "    print(\"{} : {}%\".format(port_stock[i],(max_pos.weight[i] * 100).round(3)))"
   ]
  },
  {
   "cell_type": "code",
   "execution_count": null,
   "id": "bfc2e5f2",
   "metadata": {
    "colab": {
     "base_uri": "https://localhost:8080/"
    },
    "id": "bfc2e5f2",
    "outputId": "1f21cc1c-191c-4aa3-8bc8-1d0158543b36"
   },
   "outputs": [],
   "source": [
    "print(\"The safest porfolio is {} risk, {} sharpe\".format(safe_pos.stdev.round(3), safe_pos.sharpe.round(3)))\n",
    "for i in range(len(port_stock)):\n",
    "    print(\"{} : {}%\".format(port_stock[i],(safe_pos.weight[i] * 100).round(3)))"
   ]
  },
  {
   "cell_type": "markdown",
   "id": "T4Oqx2B1xCMQ",
   "metadata": {
    "id": "T4Oqx2B1xCMQ"
   },
   "source": [
    "## Conclusion\n",
    "\n",
    "In conclusion, when applying the Markowitz Portfolio Theory to the technology sector in the S&P 500, our portfolio selection was based on several key insights. First, we considered the correlation among industries, aiming to include negatively correlated stocks to minimize risk. This approach promotes a well-rounded portfolio that provides peace of mind to investors. Alternatively, those seeking higher returns at the cost of increased risk may opt for positively correlated stocks.\n",
    "\n",
    "Additionally, we used percentage changes to better understand how the values in our dataset evolved over time, aiding in our analysis of stock performance. This allowed us to track the dynamics of the stocks in our portfolio.\n",
    "\n",
    "Furthermore, we employed Monte Carlo Simulation and SciPy optimization to randomly allocate weights to securities and determine the optimal combination for maximizing returns at a defined risk level. This approach helps investors make data-driven decisions regarding their portfolio composition.\n",
    "\n",
    "When constructing our portfolio, we considered the efficient frontier and aimed to select the portfolio with the highest Sharpe ratio. The efficient frontier represents the maximum profit achievable for a given level of risk, and portfolios positioned below it are generally considered suboptimal. By focusing on the Sharpe ratio, we aimed for portfolios with higher values, typically exceeding 1, to ensure stronger portfolio performance in practice.\n",
    "\n",
    "In summary, our approach to portfolio selection based on correlation, percentage changes, Monte Carlo Simulation, and the Sharpe ratio provides a comprehensive framework for constructing a technology S&P 500 portfolio that balances risk and return to meet investors' financial goals and risk tolerance."
   ]
  },
  {
   "cell_type": "code",
   "execution_count": null,
   "id": "3b978ce8",
   "metadata": {},
   "outputs": [],
   "source": []
  },
  {
   "cell_type": "code",
   "execution_count": null,
   "id": "9f367fba",
   "metadata": {},
   "outputs": [],
   "source": []
  },
  {
   "cell_type": "code",
   "execution_count": null,
   "id": "3c562540",
   "metadata": {},
   "outputs": [],
   "source": []
  }
 ],
 "metadata": {
  "colab": {
   "provenance": []
  },
  "kernelspec": {
   "display_name": "Python 3 (ipykernel)",
   "language": "python",
   "name": "python3"
  },
  "language_info": {
   "codemirror_mode": {
    "name": "ipython",
    "version": 3
   },
   "file_extension": ".py",
   "mimetype": "text/x-python",
   "name": "python",
   "nbconvert_exporter": "python",
   "pygments_lexer": "ipython3",
   "version": "3.11.5"
  }
 },
 "nbformat": 4,
 "nbformat_minor": 5
}
