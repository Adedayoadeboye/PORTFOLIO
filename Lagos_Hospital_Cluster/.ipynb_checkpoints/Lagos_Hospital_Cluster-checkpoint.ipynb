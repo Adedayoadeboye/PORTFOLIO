{
 "cells": [
  {
   "cell_type": "markdown",
   "id": "d3156b84",
   "metadata": {},
   "source": [
    "# \n",
    "# <p style=\"background-color:white;font-family:newtimeroman;color:#687BDF;font-size:150%;text-align:center;border-radius:20px 60px;\">Lagos Hospitals Location Cluster Analysis</p>\n",
    "![](https://global.ariseplay.com/amg/www.thisdaylive.com/uploads/LAGOS.jpg)\n",
    "\n",
    "By Adedayo Adeboye Abiodun"
   ]
  },
  {
   "cell_type": "markdown",
   "id": "673c36dc",
   "metadata": {},
   "source": [
    "In the context of this project, we extracted data pertaining to Lagos hospitals and their respective locations by utilizing Wikipedia APIs. This information becomes particularly valuable due to the significant patronage of Swatch wristwatches by doctors and hospital staff. These coordinates hold the potential to facilitate cluster analysis, aiding in the strategic decision-making process for the establishment of new Swatch retail outlets in Lagos.\n",
    "\n",
    "By gathering this hospital data, we aim to identify patterns and clusters that can inform the optimal placement of Swatch retail locations in Lagos. Leveraging the preferences and needs of the medical community, this approach promises to enhance the effectiveness of Swatch's expansion strategy within the city.\n",
    "\n",
    "*** ***"
   ]
  },
  {
   "cell_type": "markdown",
   "id": "53c5d99e",
   "metadata": {},
   "source": [
    "\n",
    "##  <p style=\"background-color:white;font-family:newtimeroman;color:#0C133C;font-size:100%;text-align:left;border-radius:20px 60px;\">Import neccessary Python Libraries</p>\n"
   ]
  },
  {
   "cell_type": "code",
   "execution_count": 1,
   "id": "1073eef1",
   "metadata": {},
   "outputs": [],
   "source": [
    "from bs4 import BeautifulSoup # this module helps in web scrapping.\n",
    "import requests  # this module helps us to download a web page\n",
    "import pandas as pd\n",
    "import warnings\n",
    "warnings.filterwarnings('ignore')"
   ]
  },
  {
   "cell_type": "markdown",
   "id": "8003ff4d",
   "metadata": {},
   "source": [
    "#### Web Scraping Using Beautifulsoap"
   ]
  },
  {
   "cell_type": "code",
   "execution_count": 2,
   "id": "bdd47761",
   "metadata": {},
   "outputs": [],
   "source": [
    "url = \"https://www.wellnesshealthcare.com.ng/hospitals-in-lagos-wellness-hmo/\""
   ]
  },
  {
   "cell_type": "code",
   "execution_count": 3,
   "id": "794257a3",
   "metadata": {},
   "outputs": [],
   "source": [
    "tables_bs  = requests.get(url).text"
   ]
  },
  {
   "cell_type": "code",
   "execution_count": 4,
   "id": "e45cde12",
   "metadata": {},
   "outputs": [],
   "source": [
    "soup = BeautifulSoup(tables_bs,\"html.parser\")"
   ]
  },
  {
   "cell_type": "code",
   "execution_count": 5,
   "id": "40155e88",
   "metadata": {},
   "outputs": [],
   "source": [
    "#find a html table in the web page\n",
    "tables = soup.find_all('table') # in html table is represented by the tag <table>"
   ]
  },
  {
   "cell_type": "code",
   "execution_count": 6,
   "id": "a1003ac5",
   "metadata": {},
   "outputs": [
    {
     "data": {
      "text/plain": [
       "4"
      ]
     },
     "execution_count": 6,
     "metadata": {},
     "output_type": "execute_result"
    }
   ],
   "source": [
    "# we can see how many tables were found by checking the length of the tables list\n",
    "len(tables)"
   ]
  },
  {
   "cell_type": "markdown",
   "id": "bb4ce054",
   "metadata": {},
   "source": [
    "#### Scrap all the four tables from Varable tables"
   ]
  },
  {
   "cell_type": "code",
   "execution_count": 7,
   "id": "b990e921",
   "metadata": {},
   "outputs": [],
   "source": [
    "# The first table as table_1\n",
    "\n",
    "table_1 = tables[0]"
   ]
  },
  {
   "cell_type": "code",
   "execution_count": 8,
   "id": "c1d4c202",
   "metadata": {},
   "outputs": [
    {
     "data": {
      "text/html": [
       "<div>\n",
       "<style scoped>\n",
       "    .dataframe tbody tr th:only-of-type {\n",
       "        vertical-align: middle;\n",
       "    }\n",
       "\n",
       "    .dataframe tbody tr th {\n",
       "        vertical-align: top;\n",
       "    }\n",
       "\n",
       "    .dataframe thead th {\n",
       "        text-align: right;\n",
       "    }\n",
       "</style>\n",
       "<table border=\"1\" class=\"dataframe\">\n",
       "  <thead>\n",
       "    <tr style=\"text-align: right;\">\n",
       "      <th></th>\n",
       "      <th>Hospital_area</th>\n",
       "      <th>Name</th>\n",
       "      <th>Address</th>\n",
       "    </tr>\n",
       "  </thead>\n",
       "  <tbody>\n",
       "    <tr>\n",
       "      <th>0</th>\n",
       "      <td>Abule Egba</td>\n",
       "      <td>Hamkad Hospital Limited</td>\n",
       "      <td>39, Olawale Cole Street, U – Turn Bus Stop, Ab...</td>\n",
       "    </tr>\n",
       "    <tr>\n",
       "      <th>1</th>\n",
       "      <td>Abule Egba</td>\n",
       "      <td>P &amp; G Medical Centre</td>\n",
       "      <td>29, Sanni Labode Street, New Oko – Oba, Abule ...</td>\n",
       "    </tr>\n",
       "    <tr>\n",
       "      <th>2</th>\n",
       "      <td>Agege</td>\n",
       "      <td>All Souls Infirmary Hospital &amp; Maternity Centre</td>\n",
       "      <td>8, Church Street. Elere, Agege Lagos</td>\n",
       "    </tr>\n",
       "    <tr>\n",
       "      <th>3</th>\n",
       "      <td>Ajao Estate</td>\n",
       "      <td>Faith City Hospital</td>\n",
       "      <td>16, Asa Afariogun Street, Off Osolo Way, Ajao ...</td>\n",
       "    </tr>\n",
       "    <tr>\n",
       "      <th>4</th>\n",
       "      <td>Ajao Estate</td>\n",
       "      <td>Healing Field Hospital</td>\n",
       "      <td>7, Ajibade Oke Street, off Asa Afariogun road,...</td>\n",
       "    </tr>\n",
       "  </tbody>\n",
       "</table>\n",
       "</div>"
      ],
      "text/plain": [
       "  Hospital_area                                             Name  \\\n",
       "0    Abule Egba                          Hamkad Hospital Limited   \n",
       "1    Abule Egba                             P & G Medical Centre   \n",
       "2         Agege  All Souls Infirmary Hospital & Maternity Centre   \n",
       "3   Ajao Estate                              Faith City Hospital   \n",
       "4   Ajao Estate                           Healing Field Hospital   \n",
       "\n",
       "                                             Address  \n",
       "0  39, Olawale Cole Street, U – Turn Bus Stop, Ab...  \n",
       "1  29, Sanni Labode Street, New Oko – Oba, Abule ...  \n",
       "2               8, Church Street. Elere, Agege Lagos  \n",
       "3  16, Asa Afariogun Street, Off Osolo Way, Ajao ...  \n",
       "4  7, Ajibade Oke Street, off Asa Afariogun road,...  "
      ]
     },
     "execution_count": 8,
     "metadata": {},
     "output_type": "execute_result"
    }
   ],
   "source": [
    "#Get all rows from the table\n",
    "Hospitals_lagos_list1 = pd.DataFrame(columns=[\"Hospital_area\", \"Name\", \"Address\"])\n",
    "\n",
    "for row in table_1.find_all('tr'): # in html table row is represented by the tag <tr>\n",
    "    # Get all columns in each row.\n",
    "    cols = row.find_all('td') # in html a column is represented by the tag <td>\n",
    "    hospital_area_1 = cols[0].string # store the value in column 3 as color_name\n",
    "    name_1 = cols[1].text # store the value in column 4 as color_code\n",
    "    address_1 = cols[2].text # store the value in column 4 as color_code\n",
    "    Hospitals_lagos_list1 = Hospitals_lagos_list1._append({\"Hospital_area\":hospital_area_1, \"Name\":name_1, \"Address\":address_1}, ignore_index=True)\n",
    "\n",
    "    \n",
    "Hospitals_lagos_list1.head() "
   ]
  },
  {
   "cell_type": "code",
   "execution_count": 9,
   "id": "7222f607",
   "metadata": {},
   "outputs": [],
   "source": [
    "# The first table as table_2\n",
    "\n",
    "table_2 = tables[1]"
   ]
  },
  {
   "cell_type": "code",
   "execution_count": 10,
   "id": "3e45f791",
   "metadata": {},
   "outputs": [
    {
     "data": {
      "text/html": [
       "<div>\n",
       "<style scoped>\n",
       "    .dataframe tbody tr th:only-of-type {\n",
       "        vertical-align: middle;\n",
       "    }\n",
       "\n",
       "    .dataframe tbody tr th {\n",
       "        vertical-align: top;\n",
       "    }\n",
       "\n",
       "    .dataframe thead th {\n",
       "        text-align: right;\n",
       "    }\n",
       "</style>\n",
       "<table border=\"1\" class=\"dataframe\">\n",
       "  <thead>\n",
       "    <tr style=\"text-align: right;\">\n",
       "      <th></th>\n",
       "      <th>Hospital_area</th>\n",
       "      <th>Name</th>\n",
       "      <th>Address</th>\n",
       "    </tr>\n",
       "  </thead>\n",
       "  <tbody>\n",
       "    <tr>\n",
       "      <th>0</th>\n",
       "      <td>Ajao Estate</td>\n",
       "      <td>Kupa Medical Centre</td>\n",
       "      <td>4, Lateef Salami Street, Off International Air...</td>\n",
       "    </tr>\n",
       "    <tr>\n",
       "      <th>1</th>\n",
       "      <td>Ajegunle Apapa</td>\n",
       "      <td>All Souls Clinic &amp; Hospital</td>\n",
       "      <td>255, Ojo Road, Ajegunle.</td>\n",
       "    </tr>\n",
       "    <tr>\n",
       "      <th>2</th>\n",
       "      <td>Ajegunle Apapa</td>\n",
       "      <td>Natafod Consultant Hospital</td>\n",
       "      <td>104, Cemetery Road, Mosafejo Bus Stop, Amukoko.</td>\n",
       "    </tr>\n",
       "    <tr>\n",
       "      <th>3</th>\n",
       "      <td>Ajegunle Apapa</td>\n",
       "      <td>Prince &amp; Princess Hospital</td>\n",
       "      <td>191, Ojo Road, Ajegunle.</td>\n",
       "    </tr>\n",
       "    <tr>\n",
       "      <th>4</th>\n",
       "      <td>Akoka</td>\n",
       "      <td>Jon – Ken Specialist Hospital</td>\n",
       "      <td>20, Sobande Street, Akoka.</td>\n",
       "    </tr>\n",
       "  </tbody>\n",
       "</table>\n",
       "</div>"
      ],
      "text/plain": [
       "    Hospital_area                           Name  \\\n",
       "0     Ajao Estate            Kupa Medical Centre   \n",
       "1  Ajegunle Apapa    All Souls Clinic & Hospital   \n",
       "2  Ajegunle Apapa    Natafod Consultant Hospital   \n",
       "3  Ajegunle Apapa     Prince & Princess Hospital   \n",
       "4           Akoka  Jon – Ken Specialist Hospital   \n",
       "\n",
       "                                             Address  \n",
       "0  4, Lateef Salami Street, Off International Air...  \n",
       "1                           255, Ojo Road, Ajegunle.  \n",
       "2    104, Cemetery Road, Mosafejo Bus Stop, Amukoko.  \n",
       "3                           191, Ojo Road, Ajegunle.  \n",
       "4                         20, Sobande Street, Akoka.  "
      ]
     },
     "execution_count": 10,
     "metadata": {},
     "output_type": "execute_result"
    }
   ],
   "source": [
    "#Get all rows from the table\n",
    "Hospitals_lagos_list2 = pd.DataFrame(columns=[\"Hospital_area\", \"Name\", \"Address\"])\n",
    "\n",
    "for row in table_2.find_all('tr'): # in html table row is represented by the tag <tr>\n",
    "    # Get all columns in each row.\n",
    "    cols = row.find_all('td') # in html a column is represented by the tag <td>\n",
    "    hospital_area_2 = cols[0].string # store the value in column 3 as color_name\n",
    "    name_2 = cols[1].string # store the value in column 4 as color_code\n",
    "    address_2 = cols[2].string # store the value in column 4 as color_code\n",
    "    Hospitals_lagos_list2 = Hospitals_lagos_list2._append({\"Hospital_area\":hospital_area_2, \"Name\":name_2, \"Address\":address_2}, ignore_index=True)\n",
    "\n",
    "    \n",
    "Hospitals_lagos_list2.head() "
   ]
  },
  {
   "cell_type": "code",
   "execution_count": 11,
   "id": "d3d6b417",
   "metadata": {},
   "outputs": [],
   "source": [
    "# The first table as table_3\n",
    "\n",
    "table_3 = tables[2]"
   ]
  },
  {
   "cell_type": "code",
   "execution_count": 12,
   "id": "ab556997",
   "metadata": {},
   "outputs": [
    {
     "data": {
      "text/html": [
       "<div>\n",
       "<style scoped>\n",
       "    .dataframe tbody tr th:only-of-type {\n",
       "        vertical-align: middle;\n",
       "    }\n",
       "\n",
       "    .dataframe tbody tr th {\n",
       "        vertical-align: top;\n",
       "    }\n",
       "\n",
       "    .dataframe thead th {\n",
       "        text-align: right;\n",
       "    }\n",
       "</style>\n",
       "<table border=\"1\" class=\"dataframe\">\n",
       "  <thead>\n",
       "    <tr style=\"text-align: right;\">\n",
       "      <th></th>\n",
       "      <th>Hospital_area</th>\n",
       "      <th>Name</th>\n",
       "      <th>Address</th>\n",
       "    </tr>\n",
       "  </thead>\n",
       "  <tbody>\n",
       "    <tr>\n",
       "      <th>0</th>\n",
       "      <td>Isheri</td>\n",
       "      <td>Spark View Hospital</td>\n",
       "      <td>2A, Wilmer Street, Isheri.</td>\n",
       "    </tr>\n",
       "    <tr>\n",
       "      <th>1</th>\n",
       "      <td>Isheri – Olofin</td>\n",
       "      <td>Lota Medical Centre</td>\n",
       "      <td>1, Mojisola Abass road, Isheri-Olofin</td>\n",
       "    </tr>\n",
       "    <tr>\n",
       "      <th>2</th>\n",
       "      <td>Isolo</td>\n",
       "      <td>St. Emmanuel Clinic &amp; Maternity Home</td>\n",
       "      <td>2, Bola Ademuyiwa Street, Off Osolo Way, Isolo.</td>\n",
       "    </tr>\n",
       "    <tr>\n",
       "      <th>3</th>\n",
       "      <td>None</td>\n",
       "      <td>Living Spring Hospital &amp; Maternity Home</td>\n",
       "      <td>49, Alafia Avenue, Off Afolabi Obe Street, Off...</td>\n",
       "    </tr>\n",
       "    <tr>\n",
       "      <th>4</th>\n",
       "      <td>Iyana – Ipaja</td>\n",
       "      <td>Mucas Hospital Ltd</td>\n",
       "      <td>19, Ogun Street, Adealu Bus Stop, Dopemu.</td>\n",
       "    </tr>\n",
       "  </tbody>\n",
       "</table>\n",
       "</div>"
      ],
      "text/plain": [
       "     Hospital_area                                      Name  \\\n",
       "0           Isheri                       Spark View Hospital   \n",
       "1  Isheri – Olofin                       Lota Medical Centre   \n",
       "2            Isolo      St. Emmanuel Clinic & Maternity Home   \n",
       "3             None   Living Spring Hospital & Maternity Home   \n",
       "4    Iyana – Ipaja                        Mucas Hospital Ltd   \n",
       "\n",
       "                                             Address  \n",
       "0                         2A, Wilmer Street, Isheri.  \n",
       "1              1, Mojisola Abass road, Isheri-Olofin  \n",
       "2    2, Bola Ademuyiwa Street, Off Osolo Way, Isolo.  \n",
       "3  49, Alafia Avenue, Off Afolabi Obe Street, Off...  \n",
       "4          19, Ogun Street, Adealu Bus Stop, Dopemu.  "
      ]
     },
     "execution_count": 12,
     "metadata": {},
     "output_type": "execute_result"
    }
   ],
   "source": [
    "#Get all rows from the table\n",
    "Hospitals_lagos_list3 = pd.DataFrame(columns=[\"Hospital_area\", \"Name\", \"Address\"])\n",
    "\n",
    "for row in table_3.find_all('tr'): # in html table row is represented by the tag <tr>\n",
    "    # Get all columns in each row.\n",
    "    cols = row.find_all('td') # in html a column is represented by the tag <td>\n",
    "    hospital_area_3 = cols[0].string # store the value in column 3 as color_name\n",
    "    name_3 = cols[1].text # store the value in column 4 as color_code\n",
    "    address_3 = cols[2].text # store the value in column 4 as color_code\n",
    "    Hospitals_lagos_list3 = Hospitals_lagos_list3._append({\"Hospital_area\":hospital_area_3, \"Name\":name_3, \"Address\":address_3}, ignore_index=True)\n",
    "\n",
    "    \n",
    "Hospitals_lagos_list3.head()"
   ]
  },
  {
   "cell_type": "code",
   "execution_count": 13,
   "id": "622e80e1",
   "metadata": {},
   "outputs": [],
   "source": [
    "# The first table as table_4\n",
    "\n",
    "table_4 = tables[3]"
   ]
  },
  {
   "cell_type": "code",
   "execution_count": 14,
   "id": "bbd959af",
   "metadata": {},
   "outputs": [
    {
     "data": {
      "text/html": [
       "<div>\n",
       "<style scoped>\n",
       "    .dataframe tbody tr th:only-of-type {\n",
       "        vertical-align: middle;\n",
       "    }\n",
       "\n",
       "    .dataframe tbody tr th {\n",
       "        vertical-align: top;\n",
       "    }\n",
       "\n",
       "    .dataframe thead th {\n",
       "        text-align: right;\n",
       "    }\n",
       "</style>\n",
       "<table border=\"1\" class=\"dataframe\">\n",
       "  <thead>\n",
       "    <tr style=\"text-align: right;\">\n",
       "      <th></th>\n",
       "      <th>Hospital_area</th>\n",
       "      <th>Name</th>\n",
       "      <th>Address</th>\n",
       "    </tr>\n",
       "  </thead>\n",
       "  <tbody>\n",
       "    <tr>\n",
       "      <th>0</th>\n",
       "      <td>Surulere</td>\n",
       "      <td>Havana Specialist Ltd</td>\n",
       "      <td>115, Akerele Extention, Surulere.</td>\n",
       "    </tr>\n",
       "    <tr>\n",
       "      <th>1</th>\n",
       "      <td>Surulere</td>\n",
       "      <td>Lifeline Children’s Hospital</td>\n",
       "      <td>133, Ogunlano Drive, Marshall Bus Stop, Suruel...</td>\n",
       "    </tr>\n",
       "    <tr>\n",
       "      <th>2</th>\n",
       "      <td>Surulere</td>\n",
       "      <td>Mount Sinai Hospital</td>\n",
       "      <td>30 Falodun Street, off Itire – Lawason road, S...</td>\n",
       "    </tr>\n",
       "    <tr>\n",
       "      <th>3</th>\n",
       "      <td>Surulere</td>\n",
       "      <td>Olaniba Memorial Hospital</td>\n",
       "      <td>10A, Olatunde Onimole Street, Aguda, Surulere.</td>\n",
       "    </tr>\n",
       "    <tr>\n",
       "      <th>4</th>\n",
       "      <td>Surulere</td>\n",
       "      <td>Optimal Specialist Hospital</td>\n",
       "      <td>9, Gbaja Street, Surulere.</td>\n",
       "    </tr>\n",
       "  </tbody>\n",
       "</table>\n",
       "</div>"
      ],
      "text/plain": [
       "  Hospital_area                          Name  \\\n",
       "0      Surulere         Havana Specialist Ltd   \n",
       "1      Surulere  Lifeline Children’s Hospital   \n",
       "2      Surulere          Mount Sinai Hospital   \n",
       "3      Surulere     Olaniba Memorial Hospital   \n",
       "4      Surulere   Optimal Specialist Hospital   \n",
       "\n",
       "                                             Address  \n",
       "0                  115, Akerele Extention, Surulere.  \n",
       "1  133, Ogunlano Drive, Marshall Bus Stop, Suruel...  \n",
       "2  30 Falodun Street, off Itire – Lawason road, S...  \n",
       "3     10A, Olatunde Onimole Street, Aguda, Surulere.  \n",
       "4                         9, Gbaja Street, Surulere.  "
      ]
     },
     "execution_count": 14,
     "metadata": {},
     "output_type": "execute_result"
    }
   ],
   "source": [
    "#Get all rows from the table\n",
    "Hospitals_lagos_list4 = pd.DataFrame(columns=[\"Hospital_area\", \"Name\", \"Address\"])\n",
    "\n",
    "for row in table_4.find_all('tr'): # in html table row is represented by the tag <tr>\n",
    "    # Get all columns in each row.\n",
    "    cols = row.find_all('td') # in html a column is represented by the tag <td>\n",
    "    hospital_area_4 = cols[0].string # store the value in column 3 as color_name\n",
    "    name_4 = cols[1].text # store the value in column 4 as color_code\n",
    "    address_4 = cols[2].text # store the value in column 4 as color_code\n",
    "    Hospitals_lagos_list4 = Hospitals_lagos_list4._append({\"Hospital_area\":hospital_area_4, \"Name\":name_4, \"Address\":address_4}, ignore_index=True)\n",
    "\n",
    "    \n",
    "Hospitals_lagos_list4.head()"
   ]
  },
  {
   "cell_type": "markdown",
   "id": "edae554c",
   "metadata": {},
   "source": [
    "\n",
    "##  <p style=\"background-color:white;font-family:newtimeroman;color:#0C133C;font-size:100%;text-align:left;border-radius:20px 60px;\">Combine All The Four Tables Using Concatenating</p>"
   ]
  },
  {
   "cell_type": "code",
   "execution_count": 15,
   "id": "02d4952b",
   "metadata": {},
   "outputs": [
    {
     "data": {
      "text/html": [
       "<div>\n",
       "<style scoped>\n",
       "    .dataframe tbody tr th:only-of-type {\n",
       "        vertical-align: middle;\n",
       "    }\n",
       "\n",
       "    .dataframe tbody tr th {\n",
       "        vertical-align: top;\n",
       "    }\n",
       "\n",
       "    .dataframe thead th {\n",
       "        text-align: right;\n",
       "    }\n",
       "</style>\n",
       "<table border=\"1\" class=\"dataframe\">\n",
       "  <thead>\n",
       "    <tr style=\"text-align: right;\">\n",
       "      <th></th>\n",
       "      <th>Hospital_area</th>\n",
       "      <th>Name</th>\n",
       "      <th>Address</th>\n",
       "    </tr>\n",
       "  </thead>\n",
       "  <tbody>\n",
       "    <tr>\n",
       "      <th>0</th>\n",
       "      <td>Abule Egba</td>\n",
       "      <td>Hamkad Hospital Limited</td>\n",
       "      <td>39, Olawale Cole Street, U – Turn Bus Stop, Ab...</td>\n",
       "    </tr>\n",
       "    <tr>\n",
       "      <th>1</th>\n",
       "      <td>Abule Egba</td>\n",
       "      <td>P &amp; G Medical Centre</td>\n",
       "      <td>29, Sanni Labode Street, New Oko – Oba, Abule ...</td>\n",
       "    </tr>\n",
       "    <tr>\n",
       "      <th>2</th>\n",
       "      <td>Agege</td>\n",
       "      <td>All Souls Infirmary Hospital &amp; Maternity Centre</td>\n",
       "      <td>8, Church Street. Elere, Agege Lagos</td>\n",
       "    </tr>\n",
       "    <tr>\n",
       "      <th>3</th>\n",
       "      <td>Ajao Estate</td>\n",
       "      <td>Faith City Hospital</td>\n",
       "      <td>16, Asa Afariogun Street, Off Osolo Way, Ajao ...</td>\n",
       "    </tr>\n",
       "    <tr>\n",
       "      <th>4</th>\n",
       "      <td>Ajao Estate</td>\n",
       "      <td>Healing Field Hospital</td>\n",
       "      <td>7, Ajibade Oke Street, off Asa Afariogun road,...</td>\n",
       "    </tr>\n",
       "  </tbody>\n",
       "</table>\n",
       "</div>"
      ],
      "text/plain": [
       "  Hospital_area                                             Name  \\\n",
       "0    Abule Egba                          Hamkad Hospital Limited   \n",
       "1    Abule Egba                             P & G Medical Centre   \n",
       "2         Agege  All Souls Infirmary Hospital & Maternity Centre   \n",
       "3   Ajao Estate                              Faith City Hospital   \n",
       "4   Ajao Estate                           Healing Field Hospital   \n",
       "\n",
       "                                             Address  \n",
       "0  39, Olawale Cole Street, U – Turn Bus Stop, Ab...  \n",
       "1  29, Sanni Labode Street, New Oko – Oba, Abule ...  \n",
       "2               8, Church Street. Elere, Agege Lagos  \n",
       "3  16, Asa Afariogun Street, Off Osolo Way, Ajao ...  \n",
       "4  7, Ajibade Oke Street, off Asa Afariogun road,...  "
      ]
     },
     "execution_count": 15,
     "metadata": {},
     "output_type": "execute_result"
    }
   ],
   "source": [
    "Lagos_Hospital_list = pd.concat([Hospitals_lagos_list1,Hospitals_lagos_list2,Hospitals_lagos_list3,Hospitals_lagos_list4], ignore_index=True)\n",
    "\n",
    "Lagos_Hospital_list.head()"
   ]
  },
  {
   "cell_type": "markdown",
   "id": "f3038e71",
   "metadata": {},
   "source": [
    "****\n",
    "\n",
    "##  <p style=\"background-color:white;font-family:newtimeroman;color:#0C133C;font-size:100%;text-align:left;border-radius:20px 60px;\">DATA EXPLORATION</p>"
   ]
  },
  {
   "cell_type": "markdown",
   "id": "74c74981",
   "metadata": {},
   "source": [
    "### Clean the dataseta, chech isnulls"
   ]
  },
  {
   "cell_type": "code",
   "execution_count": 16,
   "id": "4f6715ce",
   "metadata": {},
   "outputs": [
    {
     "data": {
      "text/html": [
       "<div>\n",
       "<style scoped>\n",
       "    .dataframe tbody tr th:only-of-type {\n",
       "        vertical-align: middle;\n",
       "    }\n",
       "\n",
       "    .dataframe tbody tr th {\n",
       "        vertical-align: top;\n",
       "    }\n",
       "\n",
       "    .dataframe thead th {\n",
       "        text-align: right;\n",
       "    }\n",
       "</style>\n",
       "<table border=\"1\" class=\"dataframe\">\n",
       "  <thead>\n",
       "    <tr style=\"text-align: right;\">\n",
       "      <th></th>\n",
       "      <th>Hospital_area</th>\n",
       "      <th>Name</th>\n",
       "      <th>Address</th>\n",
       "    </tr>\n",
       "  </thead>\n",
       "  <tbody>\n",
       "    <tr>\n",
       "      <th>0</th>\n",
       "      <td>False</td>\n",
       "      <td>False</td>\n",
       "      <td>False</td>\n",
       "    </tr>\n",
       "    <tr>\n",
       "      <th>1</th>\n",
       "      <td>False</td>\n",
       "      <td>False</td>\n",
       "      <td>False</td>\n",
       "    </tr>\n",
       "    <tr>\n",
       "      <th>2</th>\n",
       "      <td>False</td>\n",
       "      <td>False</td>\n",
       "      <td>False</td>\n",
       "    </tr>\n",
       "    <tr>\n",
       "      <th>3</th>\n",
       "      <td>False</td>\n",
       "      <td>False</td>\n",
       "      <td>False</td>\n",
       "    </tr>\n",
       "    <tr>\n",
       "      <th>4</th>\n",
       "      <td>False</td>\n",
       "      <td>False</td>\n",
       "      <td>False</td>\n",
       "    </tr>\n",
       "    <tr>\n",
       "      <th>...</th>\n",
       "      <td>...</td>\n",
       "      <td>...</td>\n",
       "      <td>...</td>\n",
       "    </tr>\n",
       "    <tr>\n",
       "      <th>127</th>\n",
       "      <td>False</td>\n",
       "      <td>False</td>\n",
       "      <td>False</td>\n",
       "    </tr>\n",
       "    <tr>\n",
       "      <th>128</th>\n",
       "      <td>False</td>\n",
       "      <td>False</td>\n",
       "      <td>False</td>\n",
       "    </tr>\n",
       "    <tr>\n",
       "      <th>129</th>\n",
       "      <td>False</td>\n",
       "      <td>False</td>\n",
       "      <td>False</td>\n",
       "    </tr>\n",
       "    <tr>\n",
       "      <th>130</th>\n",
       "      <td>False</td>\n",
       "      <td>False</td>\n",
       "      <td>False</td>\n",
       "    </tr>\n",
       "    <tr>\n",
       "      <th>131</th>\n",
       "      <td>False</td>\n",
       "      <td>False</td>\n",
       "      <td>False</td>\n",
       "    </tr>\n",
       "  </tbody>\n",
       "</table>\n",
       "<p>132 rows × 3 columns</p>\n",
       "</div>"
      ],
      "text/plain": [
       "     Hospital_area   Name  Address\n",
       "0            False  False    False\n",
       "1            False  False    False\n",
       "2            False  False    False\n",
       "3            False  False    False\n",
       "4            False  False    False\n",
       "..             ...    ...      ...\n",
       "127          False  False    False\n",
       "128          False  False    False\n",
       "129          False  False    False\n",
       "130          False  False    False\n",
       "131          False  False    False\n",
       "\n",
       "[132 rows x 3 columns]"
      ]
     },
     "execution_count": 16,
     "metadata": {},
     "output_type": "execute_result"
    }
   ],
   "source": [
    "Lagos_Hospital_list.isnull()"
   ]
  },
  {
   "cell_type": "code",
   "execution_count": 17,
   "id": "2df9c032",
   "metadata": {
    "scrolled": true
   },
   "outputs": [
    {
     "data": {
      "text/plain": [
       "Hospital_area    2\n",
       "Name             0\n",
       "Address          0\n",
       "dtype: int64"
      ]
     },
     "execution_count": 17,
     "metadata": {},
     "output_type": "execute_result"
    }
   ],
   "source": [
    "Lagos_Hospital_list.isnull().sum()"
   ]
  },
  {
   "cell_type": "markdown",
   "id": "138b1c2d",
   "metadata": {},
   "source": [
    "### Iterate the row with isnulls"
   ]
  },
  {
   "cell_type": "code",
   "execution_count": 18,
   "id": "69791c50",
   "metadata": {},
   "outputs": [
    {
     "data": {
      "text/html": [
       "<div>\n",
       "<style scoped>\n",
       "    .dataframe tbody tr th:only-of-type {\n",
       "        vertical-align: middle;\n",
       "    }\n",
       "\n",
       "    .dataframe tbody tr th {\n",
       "        vertical-align: top;\n",
       "    }\n",
       "\n",
       "    .dataframe thead th {\n",
       "        text-align: right;\n",
       "    }\n",
       "</style>\n",
       "<table border=\"1\" class=\"dataframe\">\n",
       "  <thead>\n",
       "    <tr style=\"text-align: right;\">\n",
       "      <th></th>\n",
       "      <th>Hospital_area</th>\n",
       "      <th>Name</th>\n",
       "      <th>Address</th>\n",
       "    </tr>\n",
       "  </thead>\n",
       "  <tbody>\n",
       "    <tr>\n",
       "      <th>63</th>\n",
       "      <td>None</td>\n",
       "      <td>Living Spring Hospital &amp; Maternity Home</td>\n",
       "      <td>49, Alafia Avenue, Off Afolabi Obe Street, Off...</td>\n",
       "    </tr>\n",
       "    <tr>\n",
       "      <th>79</th>\n",
       "      <td>None</td>\n",
       "      <td>Lifeline Children Hospital</td>\n",
       "      <td>1, Augustine Anozie Street, Off Adelowo Adede...</td>\n",
       "    </tr>\n",
       "  </tbody>\n",
       "</table>\n",
       "</div>"
      ],
      "text/plain": [
       "   Hospital_area                                      Name  \\\n",
       "63          None   Living Spring Hospital & Maternity Home   \n",
       "79          None                Lifeline Children Hospital   \n",
       "\n",
       "                                              Address  \n",
       "63  49, Alafia Avenue, Off Afolabi Obe Street, Off...  \n",
       "79   1, Augustine Anozie Street, Off Adelowo Adede...  "
      ]
     },
     "execution_count": 18,
     "metadata": {},
     "output_type": "execute_result"
    }
   ],
   "source": [
    "Lagos_Hospital_list[Lagos_Hospital_list.isnull().any(axis=1)]"
   ]
  },
  {
   "cell_type": "code",
   "execution_count": 19,
   "id": "637e2838",
   "metadata": {},
   "outputs": [
    {
     "data": {
      "text/html": [
       "<div>\n",
       "<style scoped>\n",
       "    .dataframe tbody tr th:only-of-type {\n",
       "        vertical-align: middle;\n",
       "    }\n",
       "\n",
       "    .dataframe tbody tr th {\n",
       "        vertical-align: top;\n",
       "    }\n",
       "\n",
       "    .dataframe thead th {\n",
       "        text-align: right;\n",
       "    }\n",
       "</style>\n",
       "<table border=\"1\" class=\"dataframe\">\n",
       "  <thead>\n",
       "    <tr style=\"text-align: right;\">\n",
       "      <th></th>\n",
       "      <th>Hospital_area</th>\n",
       "      <th>Name</th>\n",
       "      <th>Address</th>\n",
       "    </tr>\n",
       "  </thead>\n",
       "  <tbody>\n",
       "    <tr>\n",
       "      <th>63</th>\n",
       "      <td>None</td>\n",
       "      <td>Living Spring Hospital &amp; Maternity Home</td>\n",
       "      <td>49, Alafia Avenue, Off Afolabi Obe Street, Off...</td>\n",
       "    </tr>\n",
       "    <tr>\n",
       "      <th>79</th>\n",
       "      <td>None</td>\n",
       "      <td>Lifeline Children Hospital</td>\n",
       "      <td>1, Augustine Anozie Street, Off Adelowo Adede...</td>\n",
       "    </tr>\n",
       "  </tbody>\n",
       "</table>\n",
       "</div>"
      ],
      "text/plain": [
       "   Hospital_area                                      Name  \\\n",
       "63          None   Living Spring Hospital & Maternity Home   \n",
       "79          None                Lifeline Children Hospital   \n",
       "\n",
       "                                              Address  \n",
       "63  49, Alafia Avenue, Off Afolabi Obe Street, Off...  \n",
       "79   1, Augustine Anozie Street, Off Adelowo Adede...  "
      ]
     },
     "execution_count": 19,
     "metadata": {},
     "output_type": "execute_result"
    }
   ],
   "source": [
    "Lagos_Hospital_list.loc[[63,79]]"
   ]
  },
  {
   "cell_type": "markdown",
   "id": "6805ff5b",
   "metadata": {},
   "source": [
    "### Drop the NONE Rows and Reset Index"
   ]
  },
  {
   "cell_type": "code",
   "execution_count": 20,
   "id": "6a834b8e",
   "metadata": {},
   "outputs": [],
   "source": [
    "Lagos_Hospital_list.drop(index = [63,79], inplace = True)\n",
    "\n",
    "Lagos_Hospital_list.reset_index(inplace = True)"
   ]
  },
  {
   "cell_type": "markdown",
   "id": "30a60152",
   "metadata": {},
   "source": [
    "### Check For Isnull again"
   ]
  },
  {
   "cell_type": "code",
   "execution_count": 21,
   "id": "ed99ae82",
   "metadata": {
    "scrolled": false
   },
   "outputs": [
    {
     "data": {
      "text/plain": [
       "index            0\n",
       "Hospital_area    0\n",
       "Name             0\n",
       "Address          0\n",
       "dtype: int64"
      ]
     },
     "execution_count": 21,
     "metadata": {},
     "output_type": "execute_result"
    }
   ],
   "source": [
    "Lagos_Hospital_list.isnull().sum()"
   ]
  },
  {
   "cell_type": "markdown",
   "id": "71a88f1d",
   "metadata": {},
   "source": [
    "#  <p style=\"background-color:white;font-family:newtimeroman;color:#0C133C;font-size:100%;text-align:left;border-radius:20px 60px;\">The Clean dataset then saved in the working directry in CSV format</p>\n",
    "\n",
    "# "
   ]
  },
  {
   "cell_type": "markdown",
   "id": "d05253ff",
   "metadata": {},
   "source": [
    "## The clean data obtained above was re_arranged to optimized our decoding coordinates results"
   ]
  },
  {
   "cell_type": "markdown",
   "id": "75e3816b",
   "metadata": {},
   "source": [
    "### Read the datasets from the working directory, usind pandas DataFrame"
   ]
  },
  {
   "cell_type": "code",
   "execution_count": 22,
   "id": "95a12272",
   "metadata": {
    "scrolled": true
   },
   "outputs": [
    {
     "data": {
      "text/html": [
       "<div>\n",
       "<style scoped>\n",
       "    .dataframe tbody tr th:only-of-type {\n",
       "        vertical-align: middle;\n",
       "    }\n",
       "\n",
       "    .dataframe tbody tr th {\n",
       "        vertical-align: top;\n",
       "    }\n",
       "\n",
       "    .dataframe thead th {\n",
       "        text-align: right;\n",
       "    }\n",
       "</style>\n",
       "<table border=\"1\" class=\"dataframe\">\n",
       "  <thead>\n",
       "    <tr style=\"text-align: right;\">\n",
       "      <th></th>\n",
       "      <th>Name</th>\n",
       "      <th>Location</th>\n",
       "    </tr>\n",
       "  </thead>\n",
       "  <tbody>\n",
       "    <tr>\n",
       "      <th>0</th>\n",
       "      <td>Hamkad Hospital Limited</td>\n",
       "      <td>Hamkad Hospital Limited. 39, Olawale Cole Stre...</td>\n",
       "    </tr>\n",
       "    <tr>\n",
       "      <th>1</th>\n",
       "      <td>P &amp; G Medical Centre</td>\n",
       "      <td>P &amp; G Medical Centre. 29, Sanni Labode Street,...</td>\n",
       "    </tr>\n",
       "    <tr>\n",
       "      <th>2</th>\n",
       "      <td>All Souls Infirmary Hospital &amp; Maternity Centre</td>\n",
       "      <td>All Souls Infirmary Hospital &amp; Maternity Centr...</td>\n",
       "    </tr>\n",
       "    <tr>\n",
       "      <th>3</th>\n",
       "      <td>Faith City Hospital</td>\n",
       "      <td>Faith City Hospital. 16, Asa Afariogun Street,...</td>\n",
       "    </tr>\n",
       "    <tr>\n",
       "      <th>4</th>\n",
       "      <td>Healing Field Hospital</td>\n",
       "      <td>Healing Field Hospital. 7, Ajibade Oke Street,...</td>\n",
       "    </tr>\n",
       "  </tbody>\n",
       "</table>\n",
       "</div>"
      ],
      "text/plain": [
       "                                              Name  \\\n",
       "0                          Hamkad Hospital Limited   \n",
       "1                             P & G Medical Centre   \n",
       "2  All Souls Infirmary Hospital & Maternity Centre   \n",
       "3                              Faith City Hospital   \n",
       "4                           Healing Field Hospital   \n",
       "\n",
       "                                            Location  \n",
       "0  Hamkad Hospital Limited. 39, Olawale Cole Stre...  \n",
       "1  P & G Medical Centre. 29, Sanni Labode Street,...  \n",
       "2  All Souls Infirmary Hospital & Maternity Centr...  \n",
       "3  Faith City Hospital. 16, Asa Afariogun Street,...  \n",
       "4  Healing Field Hospital. 7, Ajibade Oke Street,...  "
      ]
     },
     "execution_count": 22,
     "metadata": {},
     "output_type": "execute_result"
    }
   ],
   "source": [
    "Lagos_Hospital_list = pd.read_csv(r'C:\\Users\\user\\Desktop\\pofolio\\DASH\\Cluster ML/Lagos_Hospital_lists',\n",
    "                                  usecols =[3,4],\n",
    "                                  names = ['Name','Location'],\n",
    "                                  skiprows= 1)\n",
    "\n",
    "Lagos_Hospital_list.head()"
   ]
  },
  {
   "cell_type": "markdown",
   "id": "8701a4f7",
   "metadata": {},
   "source": [
    "## \n",
    "## Import GEOPY Libraries"
   ]
  },
  {
   "cell_type": "code",
   "execution_count": 23,
   "id": "b116935b",
   "metadata": {},
   "outputs": [
    {
     "name": "stdout",
     "output_type": "stream",
     "text": [
      "Requirement already satisfied: geopy in c:\\users\\user\\anaconda3\\lib\\site-packages (2.4.0)\n",
      "Requirement already satisfied: geographiclib<3,>=1.52 in c:\\users\\user\\anaconda3\\lib\\site-packages (from geopy) (2.0)\n",
      "Note: you may need to restart the kernel to use updated packages.\n"
     ]
    }
   ],
   "source": [
    "pip install geopy"
   ]
  },
  {
   "cell_type": "code",
   "execution_count": 24,
   "id": "c682b2f0",
   "metadata": {
    "scrolled": true
   },
   "outputs": [],
   "source": [
    "# from geopandas.tools import geocode\n",
    "from geopy.geocoders import ArcGIS\n",
    "import pandas as pd\n",
    "from geopy.geocoders import Nominatim"
   ]
  },
  {
   "cell_type": "code",
   "execution_count": 25,
   "id": "61120511",
   "metadata": {},
   "outputs": [],
   "source": [
    "geolocator = ArcGIS()"
   ]
  },
  {
   "cell_type": "code",
   "execution_count": 26,
   "id": "a01c19c4",
   "metadata": {
    "scrolled": true
   },
   "outputs": [
    {
     "data": {
      "text/html": [
       "<div>\n",
       "<style scoped>\n",
       "    .dataframe tbody tr th:only-of-type {\n",
       "        vertical-align: middle;\n",
       "    }\n",
       "\n",
       "    .dataframe tbody tr th {\n",
       "        vertical-align: top;\n",
       "    }\n",
       "\n",
       "    .dataframe thead th {\n",
       "        text-align: right;\n",
       "    }\n",
       "</style>\n",
       "<table border=\"1\" class=\"dataframe\">\n",
       "  <thead>\n",
       "    <tr style=\"text-align: right;\">\n",
       "      <th></th>\n",
       "      <th>Name</th>\n",
       "      <th>Location</th>\n",
       "    </tr>\n",
       "  </thead>\n",
       "  <tbody>\n",
       "    <tr>\n",
       "      <th>0</th>\n",
       "      <td>Hamkad Hospital Limited</td>\n",
       "      <td>Hamkad Hospital Limited. 39, Olawale Cole Stre...</td>\n",
       "    </tr>\n",
       "    <tr>\n",
       "      <th>1</th>\n",
       "      <td>P &amp; G Medical Centre</td>\n",
       "      <td>P &amp; G Medical Centre. 29, Sanni Labode Street,...</td>\n",
       "    </tr>\n",
       "  </tbody>\n",
       "</table>\n",
       "</div>"
      ],
      "text/plain": [
       "                      Name                                           Location\n",
       "0  Hamkad Hospital Limited  Hamkad Hospital Limited. 39, Olawale Cole Stre...\n",
       "1     P & G Medical Centre  P & G Medical Centre. 29, Sanni Labode Street,..."
      ]
     },
     "execution_count": 26,
     "metadata": {},
     "output_type": "execute_result"
    }
   ],
   "source": [
    "Lagos_Hospital_list.head(2)"
   ]
  },
  {
   "cell_type": "markdown",
   "id": "ee95c4a6",
   "metadata": {},
   "source": [
    "### Add new column called city_coord using variable geolocator"
   ]
  },
  {
   "cell_type": "code",
   "execution_count": 27,
   "id": "b74697b7",
   "metadata": {
    "scrolled": true
   },
   "outputs": [
    {
     "data": {
      "text/html": [
       "<div>\n",
       "<style scoped>\n",
       "    .dataframe tbody tr th:only-of-type {\n",
       "        vertical-align: middle;\n",
       "    }\n",
       "\n",
       "    .dataframe tbody tr th {\n",
       "        vertical-align: top;\n",
       "    }\n",
       "\n",
       "    .dataframe thead th {\n",
       "        text-align: right;\n",
       "    }\n",
       "</style>\n",
       "<table border=\"1\" class=\"dataframe\">\n",
       "  <thead>\n",
       "    <tr style=\"text-align: right;\">\n",
       "      <th></th>\n",
       "      <th>Name</th>\n",
       "      <th>Location</th>\n",
       "      <th>city_coord</th>\n",
       "    </tr>\n",
       "  </thead>\n",
       "  <tbody>\n",
       "    <tr>\n",
       "      <th>0</th>\n",
       "      <td>Hamkad Hospital Limited</td>\n",
       "      <td>Hamkad Hospital Limited. 39, Olawale Cole Stre...</td>\n",
       "      <td>(Cole St, Lagos, Alimosho, Lagos, (6.659182741...</td>\n",
       "    </tr>\n",
       "    <tr>\n",
       "      <th>1</th>\n",
       "      <td>P &amp; G Medical Centre</td>\n",
       "      <td>P &amp; G Medical Centre. 29, Sanni Labode Street,...</td>\n",
       "      <td>(Abule-Egba, Lagos, (6.64144, 3.29323))</td>\n",
       "    </tr>\n",
       "    <tr>\n",
       "      <th>2</th>\n",
       "      <td>All Souls Infirmary Hospital &amp; Maternity Centre</td>\n",
       "      <td>All Souls Infirmary Hospital &amp; Maternity Centr...</td>\n",
       "      <td>(All Souls Infirmary Hospital and Maternity Ce...</td>\n",
       "    </tr>\n",
       "    <tr>\n",
       "      <th>3</th>\n",
       "      <td>Faith City Hospital</td>\n",
       "      <td>Faith City Hospital. 16, Asa Afariogun Street,...</td>\n",
       "      <td>(16 Afariogun St, Lagos, Oshodi-Isolo, Lagos, ...</td>\n",
       "    </tr>\n",
       "    <tr>\n",
       "      <th>4</th>\n",
       "      <td>Healing Field Hospital</td>\n",
       "      <td>Healing Field Hospital. 7, Ajibade Oke Street,...</td>\n",
       "      <td>(Ajibade, Lagos, (6.44856, 3.74724))</td>\n",
       "    </tr>\n",
       "  </tbody>\n",
       "</table>\n",
       "</div>"
      ],
      "text/plain": [
       "                                              Name  \\\n",
       "0                          Hamkad Hospital Limited   \n",
       "1                             P & G Medical Centre   \n",
       "2  All Souls Infirmary Hospital & Maternity Centre   \n",
       "3                              Faith City Hospital   \n",
       "4                           Healing Field Hospital   \n",
       "\n",
       "                                            Location  \\\n",
       "0  Hamkad Hospital Limited. 39, Olawale Cole Stre...   \n",
       "1  P & G Medical Centre. 29, Sanni Labode Street,...   \n",
       "2  All Souls Infirmary Hospital & Maternity Centr...   \n",
       "3  Faith City Hospital. 16, Asa Afariogun Street,...   \n",
       "4  Healing Field Hospital. 7, Ajibade Oke Street,...   \n",
       "\n",
       "                                          city_coord  \n",
       "0  (Cole St, Lagos, Alimosho, Lagos, (6.659182741...  \n",
       "1            (Abule-Egba, Lagos, (6.64144, 3.29323))  \n",
       "2  (All Souls Infirmary Hospital and Maternity Ce...  \n",
       "3  (16 Afariogun St, Lagos, Oshodi-Isolo, Lagos, ...  \n",
       "4               (Ajibade, Lagos, (6.44856, 3.74724))  "
      ]
     },
     "execution_count": 27,
     "metadata": {},
     "output_type": "execute_result"
    }
   ],
   "source": [
    "Lagos_Hospital_list['city_coord'] = Lagos_Hospital_list['Location'].apply(geolocator.geocode, timeout = 20)\n",
    "\n",
    "Lagos_Hospital_list.head()"
   ]
  },
  {
   "cell_type": "markdown",
   "id": "2c0464af",
   "metadata": {},
   "source": [
    "### Check the type"
   ]
  },
  {
   "cell_type": "code",
   "execution_count": 28,
   "id": "89158550",
   "metadata": {
    "scrolled": true
   },
   "outputs": [
    {
     "data": {
      "text/plain": [
       "pandas.core.series.Series"
      ]
     },
     "execution_count": 28,
     "metadata": {},
     "output_type": "execute_result"
    }
   ],
   "source": [
    "type(Lagos_Hospital_list['city_coord'])"
   ]
  },
  {
   "cell_type": "markdown",
   "id": "7ea8dff1",
   "metadata": {},
   "source": [
    "### Check for isnull"
   ]
  },
  {
   "cell_type": "code",
   "execution_count": 29,
   "id": "9342ba24",
   "metadata": {
    "scrolled": true
   },
   "outputs": [
    {
     "data": {
      "text/plain": [
       "0"
      ]
     },
     "execution_count": 29,
     "metadata": {},
     "output_type": "execute_result"
    }
   ],
   "source": [
    "Lagos_Hospital_list['city_coord'].isnull().sum()"
   ]
  },
  {
   "cell_type": "code",
   "execution_count": 30,
   "id": "087379f2",
   "metadata": {
    "scrolled": true
   },
   "outputs": [
    {
     "data": {
      "text/html": [
       "<div>\n",
       "<style scoped>\n",
       "    .dataframe tbody tr th:only-of-type {\n",
       "        vertical-align: middle;\n",
       "    }\n",
       "\n",
       "    .dataframe tbody tr th {\n",
       "        vertical-align: top;\n",
       "    }\n",
       "\n",
       "    .dataframe thead th {\n",
       "        text-align: right;\n",
       "    }\n",
       "</style>\n",
       "<table border=\"1\" class=\"dataframe\">\n",
       "  <thead>\n",
       "    <tr style=\"text-align: right;\">\n",
       "      <th></th>\n",
       "      <th>Name</th>\n",
       "      <th>Location</th>\n",
       "      <th>city_coord</th>\n",
       "    </tr>\n",
       "  </thead>\n",
       "  <tbody>\n",
       "  </tbody>\n",
       "</table>\n",
       "</div>"
      ],
      "text/plain": [
       "Empty DataFrame\n",
       "Columns: [Name, Location, city_coord]\n",
       "Index: []"
      ]
     },
     "execution_count": 30,
     "metadata": {},
     "output_type": "execute_result"
    }
   ],
   "source": [
    "Lagos_Hospital_list[Lagos_Hospital_list['city_coord'].isnull()]"
   ]
  },
  {
   "cell_type": "markdown",
   "id": "49213301",
   "metadata": {},
   "source": [
    "### Iterate city_coord column"
   ]
  },
  {
   "cell_type": "code",
   "execution_count": 31,
   "id": "bb467592",
   "metadata": {
    "scrolled": true
   },
   "outputs": [
    {
     "data": {
      "text/plain": [
       "0      (Cole St, Lagos, Alimosho, Lagos, (6.659182741...\n",
       "1                (Abule-Egba, Lagos, (6.64144, 3.29323))\n",
       "2      (All Souls Infirmary Hospital and Maternity Ce...\n",
       "3      (16 Afariogun St, Lagos, Oshodi-Isolo, Lagos, ...\n",
       "4                   (Ajibade, Lagos, (6.44856, 3.74724))\n",
       "                             ...                        \n",
       "122    (Ahmadu Bello Way, Lagos, Lagos Island, Lagos,...\n",
       "123    (Ogalade Clos & Ologun Agbaje St, Lagos, Eti-O...\n",
       "124            (Reddington Hospital, (6.43331, 3.42015))\n",
       "125    (Kasim Ekemode St & Saka Tinubu St, Lagos, Eti...\n",
       "126    (Etim Inyang Cres, Lagos, Eti-Osa, Lagos, (6.4...\n",
       "Name: city_coord, Length: 127, dtype: object"
      ]
     },
     "execution_count": 31,
     "metadata": {},
     "output_type": "execute_result"
    }
   ],
   "source": [
    "Lagos_Hospital_list.iloc[0:129,2]"
   ]
  },
  {
   "cell_type": "markdown",
   "id": "e9326852",
   "metadata": {},
   "source": [
    "### Get the coordinates apply Lambda function "
   ]
  },
  {
   "cell_type": "code",
   "execution_count": 32,
   "id": "2908c1f7",
   "metadata": {
    "scrolled": true
   },
   "outputs": [
    {
     "data": {
      "text/plain": [
       "0      (6.659182741211, 3.280092588548)\n",
       "1                    (6.64144, 3.29323)\n",
       "2                    (6.62807, 3.32078)\n",
       "3      (6.555500010287, 3.339960008552)\n",
       "4                    (6.44856, 3.74724)\n",
       "                     ...               \n",
       "122    (6.442259167596, 3.400852941739)\n",
       "123    (6.425289994304, 3.416489969667)\n",
       "124                  (6.43331, 3.42015)\n",
       "125    (6.427040009958, 3.422150017425)\n",
       "126    (6.433149998278, 3.435974752806)\n",
       "Name: city_coord, Length: 127, dtype: object"
      ]
     },
     "execution_count": 32,
     "metadata": {},
     "output_type": "execute_result"
    }
   ],
   "source": [
    "Lagos_Hospital_list['city_coord'] = Lagos_Hospital_list.iloc[0:129,2].apply(lambda x: (x.latitude, x.longitude))\n",
    "Lagos_Hospital_list['city_coord']"
   ]
  },
  {
   "cell_type": "markdown",
   "id": "ee822b4d",
   "metadata": {},
   "source": [
    "### Separate city_coord into lat and long columns"
   ]
  },
  {
   "cell_type": "code",
   "execution_count": 33,
   "id": "76438ee5",
   "metadata": {},
   "outputs": [
    {
     "data": {
      "text/html": [
       "<div>\n",
       "<style scoped>\n",
       "    .dataframe tbody tr th:only-of-type {\n",
       "        vertical-align: middle;\n",
       "    }\n",
       "\n",
       "    .dataframe tbody tr th {\n",
       "        vertical-align: top;\n",
       "    }\n",
       "\n",
       "    .dataframe thead th {\n",
       "        text-align: right;\n",
       "    }\n",
       "</style>\n",
       "<table border=\"1\" class=\"dataframe\">\n",
       "  <thead>\n",
       "    <tr style=\"text-align: right;\">\n",
       "      <th></th>\n",
       "      <th>Name</th>\n",
       "      <th>Location</th>\n",
       "      <th>city_coord</th>\n",
       "      <th>lat</th>\n",
       "      <th>long</th>\n",
       "    </tr>\n",
       "  </thead>\n",
       "  <tbody>\n",
       "    <tr>\n",
       "      <th>0</th>\n",
       "      <td>Hamkad Hospital Limited</td>\n",
       "      <td>Hamkad Hospital Limited. 39, Olawale Cole Stre...</td>\n",
       "      <td>(6.659182741211, 3.280092588548)</td>\n",
       "      <td>6.659183</td>\n",
       "      <td>3.280093</td>\n",
       "    </tr>\n",
       "    <tr>\n",
       "      <th>1</th>\n",
       "      <td>P &amp; G Medical Centre</td>\n",
       "      <td>P &amp; G Medical Centre. 29, Sanni Labode Street,...</td>\n",
       "      <td>(6.64144, 3.29323)</td>\n",
       "      <td>6.641440</td>\n",
       "      <td>3.293230</td>\n",
       "    </tr>\n",
       "    <tr>\n",
       "      <th>2</th>\n",
       "      <td>All Souls Infirmary Hospital &amp; Maternity Centre</td>\n",
       "      <td>All Souls Infirmary Hospital &amp; Maternity Centr...</td>\n",
       "      <td>(6.62807, 3.32078)</td>\n",
       "      <td>6.628070</td>\n",
       "      <td>3.320780</td>\n",
       "    </tr>\n",
       "    <tr>\n",
       "      <th>3</th>\n",
       "      <td>Faith City Hospital</td>\n",
       "      <td>Faith City Hospital. 16, Asa Afariogun Street,...</td>\n",
       "      <td>(6.555500010287, 3.339960008552)</td>\n",
       "      <td>6.555500</td>\n",
       "      <td>3.339960</td>\n",
       "    </tr>\n",
       "    <tr>\n",
       "      <th>4</th>\n",
       "      <td>Healing Field Hospital</td>\n",
       "      <td>Healing Field Hospital. 7, Ajibade Oke Street,...</td>\n",
       "      <td>(6.44856, 3.74724)</td>\n",
       "      <td>6.448560</td>\n",
       "      <td>3.747240</td>\n",
       "    </tr>\n",
       "  </tbody>\n",
       "</table>\n",
       "</div>"
      ],
      "text/plain": [
       "                                              Name  \\\n",
       "0                          Hamkad Hospital Limited   \n",
       "1                             P & G Medical Centre   \n",
       "2  All Souls Infirmary Hospital & Maternity Centre   \n",
       "3                              Faith City Hospital   \n",
       "4                           Healing Field Hospital   \n",
       "\n",
       "                                            Location  \\\n",
       "0  Hamkad Hospital Limited. 39, Olawale Cole Stre...   \n",
       "1  P & G Medical Centre. 29, Sanni Labode Street,...   \n",
       "2  All Souls Infirmary Hospital & Maternity Centr...   \n",
       "3  Faith City Hospital. 16, Asa Afariogun Street,...   \n",
       "4  Healing Field Hospital. 7, Ajibade Oke Street,...   \n",
       "\n",
       "                         city_coord       lat      long  \n",
       "0  (6.659182741211, 3.280092588548)  6.659183  3.280093  \n",
       "1                (6.64144, 3.29323)  6.641440  3.293230  \n",
       "2                (6.62807, 3.32078)  6.628070  3.320780  \n",
       "3  (6.555500010287, 3.339960008552)  6.555500  3.339960  \n",
       "4                (6.44856, 3.74724)  6.448560  3.747240  "
      ]
     },
     "execution_count": 33,
     "metadata": {},
     "output_type": "execute_result"
    }
   ],
   "source": [
    "try:\n",
    "    Lagos_Hospital_list['lat'] = Lagos_Hospital_list['city_coord'].str[0]\n",
    "    Lagos_Hospital_list['long'] = Lagos_Hospital_list['city_coord'].str[1]\n",
    "    \n",
    "except TypeError:\n",
    "\n",
    "    \n",
    "    print ('Geocoding information for ' + \"Location\" + ' is not found' )\n",
    "    print ('')\n",
    "\n",
    "Lagos_Hospital_list.head()"
   ]
  },
  {
   "cell_type": "code",
   "execution_count": 34,
   "id": "884a1a20",
   "metadata": {},
   "outputs": [],
   "source": [
    "# Save in the working directory \n",
    "Lagos_Hospital_list.to_excel(\"lagosHosptals.xlsx\")  "
   ]
  },
  {
   "cell_type": "markdown",
   "id": "d4c118c6",
   "metadata": {},
   "source": [
    "## \n",
    "### VISUALIZATION FOLIUM MAP"
   ]
  },
  {
   "cell_type": "code",
   "execution_count": null,
   "id": "0758beaa",
   "metadata": {},
   "outputs": [],
   "source": [
    "pip install folium"
   ]
  },
  {
   "cell_type": "code",
   "execution_count": null,
   "id": "2bc8368a",
   "metadata": {},
   "outputs": [],
   "source": [
    "import pandas as pd\n",
    "import folium"
   ]
  },
  {
   "cell_type": "code",
   "execution_count": null,
   "id": "9083b0b4",
   "metadata": {},
   "outputs": [],
   "source": [
    "# Read the dataset from working directory\n",
    "datasets = pd.read_excel(\"lagosHosptals.xlsx\")"
   ]
  },
  {
   "cell_type": "code",
   "execution_count": null,
   "id": "d1c91415",
   "metadata": {},
   "outputs": [],
   "source": [
    "datasets.to_csv('lagosHosptals.csv')"
   ]
  },
  {
   "cell_type": "code",
   "execution_count": null,
   "id": "36046c68",
   "metadata": {},
   "outputs": [],
   "source": [
    "datasets_lat = datasets[[\"lat\"]]\n",
    "datasets_long = datasets[[\"long\"]]"
   ]
  },
  {
   "cell_type": "code",
   "execution_count": null,
   "id": "4ec93b56",
   "metadata": {},
   "outputs": [],
   "source": [
    "geo_datas = datasets[[\"lat\"]]\n",
    "\n",
    "geo_datas[\"lon\"] = datasets_long"
   ]
  },
  {
   "cell_type": "code",
   "execution_count": null,
   "id": "8bd868f6",
   "metadata": {},
   "outputs": [],
   "source": [
    "geo_datas[\"lon\"]"
   ]
  },
  {
   "cell_type": "code",
   "execution_count": null,
   "id": "9ff156dc",
   "metadata": {
    "scrolled": true
   },
   "outputs": [],
   "source": [
    "geo_datas[\"lat\"]"
   ]
  },
  {
   "cell_type": "code",
   "execution_count": null,
   "id": "005e55d3",
   "metadata": {},
   "outputs": [],
   "source": [
    "# # create map of Alimosho using latitude and longitude values\n",
    "# fol_M = folium.Map(location=[6.465422, 3.406448], zoom_start=10)\n",
    "\n",
    "\n",
    "# # add markers to map\n",
    "\n",
    "# label = \"{}\".format('Lagos')\n",
    "# label = folium.Popup([row[\"lat\"], row[\"long\"]], popup = row[\"Name\"], parse_html=True)\n",
    "# folium.CircleMarker(\n",
    "#     [6.465422, 3.406448],\n",
    "#     radius=10,\n",
    "#     popup=label,\n",
    "#     color='blue',\n",
    "#     fill=True,\n",
    "#     fill_color='#3186cc',\n",
    "#     fill_opacity=0.8,\n",
    "#     parse_html=False).add_to(fol_M)  \n",
    "\n",
    "# fol_M  # Feel free to zoom in to see more"
   ]
  },
  {
   "cell_type": "code",
   "execution_count": null,
   "id": "f6a8863a",
   "metadata": {},
   "outputs": [],
   "source": [
    "geo_datas.to_csv('geo_datas.csv')"
   ]
  },
  {
   "cell_type": "code",
   "execution_count": null,
   "id": "781947ec",
   "metadata": {},
   "outputs": [],
   "source": [
    "def HospFol_M():\n",
    "    fol_M = folium.Map(location=[6.465422, 3.406448], zoom_start=11.5)\n",
    "    \n",
    "    for index, row in datasets.iterrows():\n",
    "        folium.Marker([row[\"lat\"], row[\"long\"]], popup = row[\"Name\"]).add_to(fol_M)\n",
    "    \n",
    "    return fol_M\n",
    "\n",
    "HospFol_M()       "
   ]
  },
  {
   "cell_type": "code",
   "execution_count": null,
   "id": "6f7e1c1f",
   "metadata": {},
   "outputs": [],
   "source": [
    "HospFol_M().save(\"Hospital_around_Lagos.html\")    "
   ]
  },
  {
   "cell_type": "markdown",
   "id": "d4191482",
   "metadata": {},
   "source": [
    "## \n",
    "### CLUSTER ANALYSIS "
   ]
  },
  {
   "cell_type": "code",
   "execution_count": null,
   "id": "80cc58ca",
   "metadata": {},
   "outputs": [],
   "source": [
    "import pandas as pd\n",
    "import numpy as np\n",
    "import matplotlib.pyplot as plt\n",
    "from sklearn.cluster import KMeans\n",
    "import seaborn as sns; sns.set()"
   ]
  },
  {
   "cell_type": "code",
   "execution_count": null,
   "id": "23fe2b3e",
   "metadata": {},
   "outputs": [],
   "source": [
    "K_clusters = range(1,10)\n",
    "kmeans = [KMeans(n_clusters=i) for i in K_clusters]\n",
    "Y_axis = geo_datas[['lon']]\n",
    "X_axis = geo_datas[['lat']]\n",
    "score = [kmeans[i].fit(Y_axis).score(Y_axis) for i in range(len(kmeans))]"
   ]
  },
  {
   "cell_type": "code",
   "execution_count": null,
   "id": "e694678a",
   "metadata": {},
   "outputs": [],
   "source": [
    "score "
   ]
  },
  {
   "cell_type": "code",
   "execution_count": null,
   "id": "532eb91b",
   "metadata": {
    "scrolled": true
   },
   "outputs": [],
   "source": [
    "type(score )"
   ]
  },
  {
   "cell_type": "markdown",
   "id": "c4841e9d",
   "metadata": {},
   "source": [
    "#### Visualize"
   ]
  },
  {
   "cell_type": "code",
   "execution_count": null,
   "id": "be7b34d4",
   "metadata": {
    "scrolled": true
   },
   "outputs": [],
   "source": [
    "\n",
    "\n",
    "def Elbow_curve():\n",
    "    eplot = plt.plot(K_clusters, score)\n",
    "    plt.xlabel('Number of Clusters')\n",
    "    plt.ylabel('Score')\n",
    "    plt.title('Elbow Curve')\n",
    "    \n",
    "    return eplot\n",
    "\n",
    "Elbow_curve()"
   ]
  },
  {
   "cell_type": "code",
   "execution_count": null,
   "id": "f1ae76a1",
   "metadata": {},
   "outputs": [],
   "source": [
    "KMNs = KMeans(n_clusters = 6)\n",
    "\n",
    "KMNs.fit(geo_datas)\n",
    "\n",
    "Labels = KMNs.predict(geo_datas)"
   ]
  },
  {
   "cell_type": "code",
   "execution_count": null,
   "id": "03e5a0f2",
   "metadata": {
    "scrolled": true
   },
   "outputs": [],
   "source": [
    "Labels"
   ]
  },
  {
   "cell_type": "code",
   "execution_count": null,
   "id": "dbcf38e4",
   "metadata": {},
   "outputs": [],
   "source": [
    "type(Labels)"
   ]
  },
  {
   "cell_type": "code",
   "execution_count": null,
   "id": "ed177df7",
   "metadata": {},
   "outputs": [],
   "source": [
    "import plotly.express as px"
   ]
  },
  {
   "cell_type": "code",
   "execution_count": null,
   "id": "36e541a0",
   "metadata": {},
   "outputs": [],
   "source": [
    "Centroid = KMNs.cluster_centers_\n",
    "a = Centroid[:,0]\n",
    "b = Centroid[:,1]"
   ]
  },
  {
   "cell_type": "code",
   "execution_count": null,
   "id": "3ff64efe",
   "metadata": {},
   "outputs": [],
   "source": [
    "plt.scatter(geo_datas[\"lat\"], geo_datas[\"lon\"], c = Labels, cmap='viridis', s=50)\n",
    "plt.scatter(Centroid[:,0],Centroid[:,1], marker=\"o\",color = \"red\", s=120, alpha=0.5)\n",
    "plt.xlabel(\"Latitude\")\n",
    "plt.ylabel(\"Longitude\")\n",
    "\n",
    "\n"
   ]
  },
  {
   "cell_type": "code",
   "execution_count": null,
   "id": "a5901161",
   "metadata": {},
   "outputs": [],
   "source": [
    "pip install geopandas"
   ]
  },
  {
   "cell_type": "code",
   "execution_count": null,
   "id": "2d08dae1",
   "metadata": {},
   "outputs": [],
   "source": [
    "from geopandas.tools import geocode\n",
    "import pandas as pd\n",
    "from geopy.geocoders import ArcGIS"
   ]
  },
  {
   "cell_type": "code",
   "execution_count": null,
   "id": "26adfa03",
   "metadata": {},
   "outputs": [],
   "source": [
    "geolocator = ArcGIS()"
   ]
  },
  {
   "cell_type": "code",
   "execution_count": null,
   "id": "b09e05b1",
   "metadata": {},
   "outputs": [],
   "source": [
    "Centriod_df = pd.DataFrame(Centroid, columns=[\"Latitude\",\"Longitude\"])\n",
    "\n",
    "Centriod_df['geo_coord'] = Centriod_df.apply(lambda row: (str(row.Latitude),str(row.Longitude)),axis=1)\n",
    "\n",
    "Centriod_df['address'] = Centriod_df.apply(lambda row: geolocator.reverse(row.geo_coord).address,axis=1)"
   ]
  },
  {
   "cell_type": "code",
   "execution_count": null,
   "id": "ddbc77b5",
   "metadata": {},
   "outputs": [],
   "source": [
    "Centriod_df.head()"
   ]
  },
  {
   "cell_type": "code",
   "execution_count": null,
   "id": "ccf3d3d9",
   "metadata": {
    "scrolled": true
   },
   "outputs": [],
   "source": [
    "Centroid = Centriod_df[['Latitude','Longitude','address']]\n",
    "\n",
    "Centroid"
   ]
  },
  {
   "cell_type": "code",
   "execution_count": null,
   "id": "4ff125f2",
   "metadata": {
    "scrolled": false
   },
   "outputs": [],
   "source": [
    "def HospFol_centroid():\n",
    "    fol_centroid = folium.Map(location=[6.465422, 3.406448], tiles = 'Stamen Toner', zoom_start=10)\n",
    "    \n",
    "    for index, row in Centroid.iterrows():\n",
    "        folium.Marker([row[\"Latitude\"], row[\"Longitude\"]], popup = row[\"address\"]).add_to(fol_centroid)\n",
    "    \n",
    "    return fol_centroid\n",
    "\n",
    "HospFol_centroid() "
   ]
  },
  {
   "cell_type": "code",
   "execution_count": null,
   "id": "844e3b5b",
   "metadata": {},
   "outputs": [],
   "source": [
    "HospFol_centroid().save(\"Centroid_Hosp.html\")   "
   ]
  },
  {
   "cell_type": "code",
   "execution_count": null,
   "id": "086a940b",
   "metadata": {},
   "outputs": [],
   "source": [
    "pip install dash"
   ]
  },
  {
   "cell_type": "code",
   "execution_count": null,
   "id": "66c8a962",
   "metadata": {},
   "outputs": [],
   "source": [
    "import folium\n",
    "import dash\n",
    "import pandas as pd\n",
    "import numpy as np\n",
    "import dash_html_components as html\n",
    "import dash_core_components as dcc\n",
    "from dash.dependencies import Input, Output, State\n",
    "import matplotlib.pyplot as plt\n",
    "from sklearn.cluster import KMeans\n",
    "import seaborn as sns; sns.set()"
   ]
  },
  {
   "cell_type": "code",
   "execution_count": null,
   "id": "83ac3ba4",
   "metadata": {},
   "outputs": [],
   "source": [
    "datasets = pd.read_excel(\"lagosHosptals.xlsx\")\n",
    "\n",
    "datasets_lat = datasets[[\"lat\"]]\n",
    "datasets_long = datasets[[\"long\"]]\n",
    "\n",
    "geo_datas = datasets[[\"lat\"]]\n",
    "geo_datas[\"lon\"] = datasets_long\n",
    "\n",
    "def HospFol_M():\n",
    "    fol_M = folium.Map(location=[6.465422, 3.406448], zoom_start=11.5)\n",
    "    \n",
    "    for index, row in datasets.iterrows():\n",
    "        folium.Marker([row[\"lat\"], row[\"long\"]], popup = row[\"Name\"]).add_to(fol_M)\n",
    "    \n",
    "    return fol_M\n",
    "HospFol_M()"
   ]
  },
  {
   "cell_type": "code",
   "execution_count": null,
   "id": "ef232dbd",
   "metadata": {},
   "outputs": [],
   "source": [
    "import folium\n",
    "import dash\n",
    "import pandas as pd\n",
    "import numpy as np\n",
    "import dash_html_components as html\n",
    "import dash_core_components as dcc\n",
    "from dash.dependencies import Input, Output, State\n",
    "import matplotlib.pyplot as plt\n",
    "from sklearn.cluster import KMeans\n",
    "import seaborn as sns; sns.set()\n",
    "\n",
    "\n",
    "\n",
    "\n",
    "app = dash.Dash(__name__)\n",
    "\n",
    "# Read the dataset from working directory\n",
    "datasets = pd.read_excel(\"lagosHosptals.xlsx\")\n",
    "\n",
    "datasets_lat = datasets[[\"lat\"]]\n",
    "datasets_long = datasets[[\"long\"]]\n",
    "\n",
    "geo_datas = datasets[[\"lat\"]]\n",
    "geo_datas[\"lon\"] = datasets_long\n",
    "\n",
    "\n",
    "\n",
    "\n",
    "\n",
    "def HospFol_M():\n",
    "    fol_M = folium.Map(location=[6.465422, 3.406448], zoom_start=11.5)\n",
    "    \n",
    "    for index, row in datasets.iterrows():\n",
    "        folium.Marker([row[\"lat\"], row[\"long\"]], popup = row[\"Name\"]).add_to(fol_M)\n",
    "    \n",
    "    return fol_M\n",
    "\n",
    "\n",
    "\n",
    "\n",
    "K_clusters = range(1,10)\n",
    "kmeans = [KMeans(n_clusters=i) for i in K_clusters]\n",
    "Y_axis = geo_datas[['lon']]\n",
    "X_axis = geo_datas[['lat']]\n",
    "score = [kmeans[i].fit(Y_axis).score(Y_axis) for i in range(len(kmeans))]\n",
    "\n",
    "def Elbow_curve():\n",
    "    eplot = plt.plot(K_clusters, score)\n",
    "    plt.xlabel('Number of Clusters')\n",
    "    plt.ylabel('Score')\n",
    "    plt.title('Elbow Curve')\n",
    "    \n",
    "    return eplot\n",
    "\n",
    "\n",
    "\n",
    "\n",
    "KMNs = KMeans(n_clusters = 8)\n",
    "KMNs.fit(geo_datas)\n",
    "Labels = KMNs.predict(geo_datas)\n",
    "\n",
    "Centroid = KMNs.cluster_centers_\n",
    "a = Centroid[:,0]\n",
    "b = Centroid[:,1]\n",
    "\n",
    "def clusterPlot():\n",
    "    clustPlot = plt.scatter(geo_datas[\"lat\"], geo_datas[\"lon\"], c = Labels, cmap='viridis', s=50)\n",
    "    plt.scatter(Centroid[:,0],Centroid[:,1], marker=\"o\",color = \"red\", s=120, alpha=0.5)\n",
    "    plt.xlabel(\"Latitude\")\n",
    "    plt.ylabel(\"Longitude\")\n",
    "    return clustPlot\n",
    "\n",
    "\n",
    "\n",
    "\n",
    "# from geopandas.tools import geocode\n",
    "# from geopy.geocoders import ArcGIS\n",
    "# geolocator = ArcGIS()\n",
    "\n",
    "# Centriod_df = pd.DataFrame(Centroid, columns=[\"Latitude\",\"Longitude\"])\n",
    "# Centriod_df['geo_coord'] = Centriod_df.apply(lambda row: (str(row.Latitude),str(row.Longitude)),axis=1)\n",
    "# Centriod_df['address'] = Centriod_df.apply(lambda row: geolocator.reverse(row.geo_coord).address,axis=1)\n",
    "\n",
    "# Centroid = Centriod_df[['Latitude','Longitude','address']]\n",
    "# Centroid\n",
    "\n",
    "app.layout = html.Div(children=[ \n",
    "                                # TASK1: Add title to the dashboard\n",
    "\n",
    "                                html.H1('SUPERMARKET BRANCHES PERFORMANCE',style={'textAlign':'center','color':'#7570b3','font-size':'48'}),\n",
    "\n",
    "\n",
    "         \n",
    "        html.Div(dcc.Graph(figure = HospFol_M() ),\n",
    "                                                style={\"background-color\": \"#161A1D\",\n",
    "                                                \"padding\": \"60px\",},),   \n",
    "        \n",
    "        \n",
    "        html.Div(children=[\n",
    "                        \n",
    "                        html.Div(dcc.Graph(figure = Elbow_curve(), \n",
    "                                                style={\"background-color\": \"#161A1D\",\"text-align\": \"center\",\n",
    "                                                \"height\":\"70vh\"}),),\n",
    "                        html.Div(dcc.Graph(figure = clusterPlot(),\n",
    "                                                style={\"background-color\": \"#161A1D\",\"text-align\": \"center\",\n",
    "                                                \"height\":\"70vh\"}),),],\n",
    "                        style={\"display\": \"flex\",\"background-color\": \"#0e1012\",\"padding-bottom\": \"60px\",\"justify-content\": \"space-around\"}),      # Create an outer division \n",
    "                  \n",
    "                    \n",
    "                                # Graph layout\n",
    "                               \n",
    "                                # html.Div(dcc.Graph(figure=tree_fig)),\n",
    "    \n",
    "                                # html.Div([\n",
    "                                #         html.Div(dcc.Graph( figure=bar_fig)),\n",
    "                                #         html.Div(dcc.Graph(figure=pie_fig))\n",
    "                                # ], style={'display': 'flex'}),\n",
    "                                 \n",
    "                                \n",
    "                            \n",
    "                                ],style={\"height\": \"100vh\"})\n",
    "\n",
    "\n",
    "\n",
    "\n",
    "if __name__ == '__main__':\n",
    "      app.run_server()"
   ]
  },
  {
   "cell_type": "code",
   "execution_count": null,
   "id": "41943967",
   "metadata": {},
   "outputs": [],
   "source": []
  },
  {
   "cell_type": "code",
   "execution_count": null,
   "id": "2e3e69c4",
   "metadata": {},
   "outputs": [],
   "source": []
  }
 ],
 "metadata": {
  "kernelspec": {
   "display_name": "Python 3 (ipykernel)",
   "language": "python",
   "name": "python3"
  },
  "language_info": {
   "codemirror_mode": {
    "name": "ipython",
    "version": 3
   },
   "file_extension": ".py",
   "mimetype": "text/x-python",
   "name": "python",
   "nbconvert_exporter": "python",
   "pygments_lexer": "ipython3",
   "version": "3.11.5"
  }
 },
 "nbformat": 4,
 "nbformat_minor": 5
}
